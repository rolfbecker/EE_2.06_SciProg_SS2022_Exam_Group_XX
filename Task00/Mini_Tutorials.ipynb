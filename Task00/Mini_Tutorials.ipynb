{
 "cells": [
  {
   "cell_type": "markdown",
   "id": "24c108e2-4532-4efa-b0cf-e0c2b389aab8",
   "metadata": {},
   "source": [
    "# Mini Tutorials and Code Snippets\n",
    "\n",
    "Version V001, 2022-07-10, rb"
   ]
  },
  {
   "cell_type": "markdown",
   "id": "588a22d4-f780-4236-b58b-52d38a2893b2",
   "metadata": {},
   "source": [
    "## Vectorized Operations \n",
    "\n",
    "Pandas dataframes and their columns work like numpy arrays. They allow vectorized operations. Use vectorized operations as much as possible!\n",
    "<br>Vectorized operations are operating on all elements (cells) of a numpy or pandas data structure at once. They are fast and easy to use.\n",
    "<br>This very short tutorial is not comprehensive! See the official pandas documentation and tutorials."
   ]
  },
  {
   "cell_type": "code",
   "execution_count": 1,
   "id": "fe7f474b-4393-4b20-ad0f-3221c98049c3",
   "metadata": {},
   "outputs": [],
   "source": [
    "import numpy as np\n",
    "import pandas as pd"
   ]
  },
  {
   "cell_type": "code",
   "execution_count": 2,
   "id": "d4456e29-dc62-4d21-a341-f87d63428a5e",
   "metadata": {},
   "outputs": [
    {
     "data": {
      "text/html": [
       "<div>\n",
       "<style scoped>\n",
       "    .dataframe tbody tr th:only-of-type {\n",
       "        vertical-align: middle;\n",
       "    }\n",
       "\n",
       "    .dataframe tbody tr th {\n",
       "        vertical-align: top;\n",
       "    }\n",
       "\n",
       "    .dataframe thead th {\n",
       "        text-align: right;\n",
       "    }\n",
       "</style>\n",
       "<table border=\"1\" class=\"dataframe\">\n",
       "  <thead>\n",
       "    <tr style=\"text-align: right;\">\n",
       "      <th></th>\n",
       "      <th>x</th>\n",
       "      <th>y</th>\n",
       "      <th>z</th>\n",
       "    </tr>\n",
       "  </thead>\n",
       "  <tbody>\n",
       "    <tr>\n",
       "      <th>0</th>\n",
       "      <td>1.0</td>\n",
       "      <td>3.0</td>\n",
       "      <td>0.0</td>\n",
       "    </tr>\n",
       "    <tr>\n",
       "      <th>1</th>\n",
       "      <td>2.0</td>\n",
       "      <td>1.0</td>\n",
       "      <td>0.0</td>\n",
       "    </tr>\n",
       "    <tr>\n",
       "      <th>2</th>\n",
       "      <td>3.0</td>\n",
       "      <td>4.0</td>\n",
       "      <td>0.0</td>\n",
       "    </tr>\n",
       "    <tr>\n",
       "      <th>3</th>\n",
       "      <td>4.0</td>\n",
       "      <td>1.0</td>\n",
       "      <td>0.0</td>\n",
       "    </tr>\n",
       "  </tbody>\n",
       "</table>\n",
       "</div>"
      ],
      "text/plain": [
       "     x    y    z\n",
       "0  1.0  3.0  0.0\n",
       "1  2.0  1.0  0.0\n",
       "2  3.0  4.0  0.0\n",
       "3  4.0  1.0  0.0"
      ]
     },
     "execution_count": 2,
     "metadata": {},
     "output_type": "execute_result"
    }
   ],
   "source": [
    "# Example dataframe\n",
    "df_tmp = pd.DataFrame(\n",
    "    {'x' : [1.0, 2.0, 3.0, 4.0],\n",
    "     'y' : [3., 1., 4., 1.],\n",
    "     'z' : np.zeros(4)\n",
    "    })\n",
    "df_tmp"
   ]
  },
  {
   "cell_type": "code",
   "execution_count": 3,
   "id": "8d180f77-72aa-4ca8-957b-d8a8c7979945",
   "metadata": {},
   "outputs": [
    {
     "data": {
      "text/html": [
       "<div>\n",
       "<style scoped>\n",
       "    .dataframe tbody tr th:only-of-type {\n",
       "        vertical-align: middle;\n",
       "    }\n",
       "\n",
       "    .dataframe tbody tr th {\n",
       "        vertical-align: top;\n",
       "    }\n",
       "\n",
       "    .dataframe thead th {\n",
       "        text-align: right;\n",
       "    }\n",
       "</style>\n",
       "<table border=\"1\" class=\"dataframe\">\n",
       "  <thead>\n",
       "    <tr style=\"text-align: right;\">\n",
       "      <th></th>\n",
       "      <th>x</th>\n",
       "      <th>y</th>\n",
       "      <th>z</th>\n",
       "    </tr>\n",
       "  </thead>\n",
       "  <tbody>\n",
       "    <tr>\n",
       "      <th>0</th>\n",
       "      <td>40.0</td>\n",
       "      <td>50.0</td>\n",
       "      <td>35.0</td>\n",
       "    </tr>\n",
       "    <tr>\n",
       "      <th>1</th>\n",
       "      <td>45.0</td>\n",
       "      <td>40.0</td>\n",
       "      <td>35.0</td>\n",
       "    </tr>\n",
       "    <tr>\n",
       "      <th>2</th>\n",
       "      <td>50.0</td>\n",
       "      <td>55.0</td>\n",
       "      <td>35.0</td>\n",
       "    </tr>\n",
       "    <tr>\n",
       "      <th>3</th>\n",
       "      <td>55.0</td>\n",
       "      <td>40.0</td>\n",
       "      <td>35.0</td>\n",
       "    </tr>\n",
       "  </tbody>\n",
       "</table>\n",
       "</div>"
      ],
      "text/plain": [
       "      x     y     z\n",
       "0  40.0  50.0  35.0\n",
       "1  45.0  40.0  35.0\n",
       "2  50.0  55.0  35.0\n",
       "3  55.0  40.0  35.0"
      ]
     },
     "execution_count": 3,
     "metadata": {},
     "output_type": "execute_result"
    }
   ],
   "source": [
    "# Calculations on all elements (aka cells) of a whole data frame in one pass\n",
    "(df_tmp + 7) * 5"
   ]
  },
  {
   "cell_type": "code",
   "execution_count": 4,
   "id": "2f049c4c-9bf5-4ed6-b4f4-1698db763c92",
   "metadata": {},
   "outputs": [
    {
     "data": {
      "text/plain": [
       "0    3.500000\n",
       "1    1.500000\n",
       "2    2.666667\n",
       "3    1.000000\n",
       "dtype: float64"
      ]
     },
     "execution_count": 4,
     "metadata": {},
     "output_type": "execute_result"
    }
   ],
   "source": [
    "# Operations on columns (= pandas series)\n",
    "2/df_tmp['x'] + df_tmp['y']/2"
   ]
  },
  {
   "cell_type": "code",
   "execution_count": 5,
   "id": "4e55994a-90db-483e-95a3-45611eb2fcd1",
   "metadata": {},
   "outputs": [
    {
     "data": {
      "text/html": [
       "<div>\n",
       "<style scoped>\n",
       "    .dataframe tbody tr th:only-of-type {\n",
       "        vertical-align: middle;\n",
       "    }\n",
       "\n",
       "    .dataframe tbody tr th {\n",
       "        vertical-align: top;\n",
       "    }\n",
       "\n",
       "    .dataframe thead th {\n",
       "        text-align: right;\n",
       "    }\n",
       "</style>\n",
       "<table border=\"1\" class=\"dataframe\">\n",
       "  <thead>\n",
       "    <tr style=\"text-align: right;\">\n",
       "      <th></th>\n",
       "      <th>x</th>\n",
       "      <th>y</th>\n",
       "      <th>z</th>\n",
       "    </tr>\n",
       "  </thead>\n",
       "  <tbody>\n",
       "    <tr>\n",
       "      <th>0</th>\n",
       "      <td>1.0</td>\n",
       "      <td>3.0</td>\n",
       "      <td>3.500000</td>\n",
       "    </tr>\n",
       "    <tr>\n",
       "      <th>1</th>\n",
       "      <td>2.0</td>\n",
       "      <td>1.0</td>\n",
       "      <td>1.500000</td>\n",
       "    </tr>\n",
       "    <tr>\n",
       "      <th>2</th>\n",
       "      <td>3.0</td>\n",
       "      <td>4.0</td>\n",
       "      <td>2.666667</td>\n",
       "    </tr>\n",
       "    <tr>\n",
       "      <th>3</th>\n",
       "      <td>4.0</td>\n",
       "      <td>1.0</td>\n",
       "      <td>1.000000</td>\n",
       "    </tr>\n",
       "  </tbody>\n",
       "</table>\n",
       "</div>"
      ],
      "text/plain": [
       "     x    y         z\n",
       "0  1.0  3.0  3.500000\n",
       "1  2.0  1.0  1.500000\n",
       "2  3.0  4.0  2.666667\n",
       "3  4.0  1.0  1.000000"
      ]
     },
     "execution_count": 5,
     "metadata": {},
     "output_type": "execute_result"
    }
   ],
   "source": [
    "# Storing the results in an existing column\n",
    "df_tmp['z'] = 2/df_tmp['x'] + df_tmp['y']/2\n",
    "df_tmp"
   ]
  },
  {
   "cell_type": "code",
   "execution_count": 6,
   "id": "ef073bb4-72c2-4e26-b531-38ef06317ebe",
   "metadata": {},
   "outputs": [
    {
     "data": {
      "text/html": [
       "<div>\n",
       "<style scoped>\n",
       "    .dataframe tbody tr th:only-of-type {\n",
       "        vertical-align: middle;\n",
       "    }\n",
       "\n",
       "    .dataframe tbody tr th {\n",
       "        vertical-align: top;\n",
       "    }\n",
       "\n",
       "    .dataframe thead th {\n",
       "        text-align: right;\n",
       "    }\n",
       "</style>\n",
       "<table border=\"1\" class=\"dataframe\">\n",
       "  <thead>\n",
       "    <tr style=\"text-align: right;\">\n",
       "      <th></th>\n",
       "      <th>x</th>\n",
       "      <th>y</th>\n",
       "      <th>z</th>\n",
       "      <th>z2</th>\n",
       "    </tr>\n",
       "  </thead>\n",
       "  <tbody>\n",
       "    <tr>\n",
       "      <th>0</th>\n",
       "      <td>1.0</td>\n",
       "      <td>3.0</td>\n",
       "      <td>3.500000</td>\n",
       "      <td>0.285714</td>\n",
       "    </tr>\n",
       "    <tr>\n",
       "      <th>1</th>\n",
       "      <td>2.0</td>\n",
       "      <td>1.0</td>\n",
       "      <td>1.500000</td>\n",
       "      <td>2.666667</td>\n",
       "    </tr>\n",
       "    <tr>\n",
       "      <th>2</th>\n",
       "      <td>3.0</td>\n",
       "      <td>4.0</td>\n",
       "      <td>2.666667</td>\n",
       "      <td>3.375000</td>\n",
       "    </tr>\n",
       "    <tr>\n",
       "      <th>3</th>\n",
       "      <td>4.0</td>\n",
       "      <td>1.0</td>\n",
       "      <td>1.000000</td>\n",
       "      <td>16.000000</td>\n",
       "    </tr>\n",
       "  </tbody>\n",
       "</table>\n",
       "</div>"
      ],
      "text/plain": [
       "     x    y         z         z2\n",
       "0  1.0  3.0  3.500000   0.285714\n",
       "1  2.0  1.0  1.500000   2.666667\n",
       "2  3.0  4.0  2.666667   3.375000\n",
       "3  4.0  1.0  1.000000  16.000000"
      ]
     },
     "execution_count": 6,
     "metadata": {},
     "output_type": "execute_result"
    }
   ],
   "source": [
    "# Store the results in a new column z2\n",
    "df_tmp['z2'] = df_tmp['x']**2 / df_tmp['z']\n",
    "df_tmp"
   ]
  },
  {
   "cell_type": "code",
   "execution_count": 7,
   "id": "525bc590-b89a-48ef-8fa2-11638d7113a7",
   "metadata": {},
   "outputs": [
    {
     "data": {
      "text/plain": [
       "x     0.300000\n",
       "y     0.400000\n",
       "z     0.266667\n",
       "z2    0.337500\n",
       "Name: 2, dtype: float64"
      ]
     },
     "execution_count": 7,
     "metadata": {},
     "output_type": "execute_result"
    }
   ],
   "source": [
    "# Operations on rows\n",
    "df_tmp.iloc[2]/10."
   ]
  },
  {
   "cell_type": "markdown",
   "id": "8bdf8c07-cd0f-466c-ba59-6f0875655e7f",
   "metadata": {},
   "source": [
    "## Cumulative Precipitation Sum"
   ]
  },
  {
   "cell_type": "code",
   "execution_count": 8,
   "id": "530b8bb4-af2b-4c83-a07e-fe4fa534acc6",
   "metadata": {},
   "outputs": [],
   "source": [
    "import numpy as np\n",
    "import pandas as pd\n",
    "import matplotlib.pyplot as plt"
   ]
  },
  {
   "cell_type": "code",
   "execution_count": 9,
   "id": "6e47a8e1-5a9d-4c82-90c6-8bb26a378e54",
   "metadata": {},
   "outputs": [
    {
     "name": "stdout",
     "output_type": "stream",
     "text": [
      "p:  [0 0 1 1 0 1 2 0 0 2 1 0 0]\n",
      "cp: [0 0 1 2 2 3 5 5 5 7 8 8 8]\n",
      "t:  [ 0.  5. 10. 15. 20. 25. 30. 35. 40. 45. 50. 55. 60.]\n",
      "\n",
      "In the last 60 minutes 8.0 mm of rain fell.\n",
      "\n"
     ]
    }
   ],
   "source": [
    "# Precipitation height in mm, aggregated over five minutes\n",
    "# Value 2 means: 2 mm of rain have fallen during the last 5 minutes. \n",
    "p = np.array([0, 0, 1, 1, 0, 1, 2, 0, 0, 2, 1, 0, 0])\n",
    "N = len(p)\n",
    "\n",
    "# minute vector \n",
    "Dt = 5. # prec. aggregated over 5 minutes \n",
    "t = np.linspace(0,(N-1)*Dt,N) \n",
    "\n",
    "# Cumulative sum of precipitation values \n",
    "cp = p.cumsum()\n",
    "\n",
    "# Final values\n",
    "cp_last = cp[-1]\n",
    "t_last  =  t[-1]\n",
    "\n",
    "print(\"p: \", p)\n",
    "print(\"cp:\", cp)\n",
    "print(\"t: \", t)\n",
    "print(f\"\\nIn the last {t_last:.0f} minutes {cp_last:.1f} mm of rain fell.\\n\")"
   ]
  },
  {
   "cell_type": "code",
   "execution_count": 10,
   "id": "5dbf584f-fd7e-4935-9e6d-a3929b252b6e",
   "metadata": {},
   "outputs": [
    {
     "data": {
      "image/png": "[encoded data removed]",
      "text/plain": [
       "<Figure size 544x408 with 1 Axes>"
      ]
     },
     "metadata": {
      "needs_background": "light"
     },
     "output_type": "display_data"
    }
   ],
   "source": [
    "fig,ax = plt.subplots(figsize=(4,3), dpi = 136)\n",
    "ax.bar(t,p,width=Dt*.2,label=\"prec. (last 5 mins)\")\n",
    "ax.plot(t,0*t,\"o\")\n",
    "ax.plot(t, cp, color=\"black\", marker=\"x\", label=\"accumulated\")\n",
    "ax.grid(True)\n",
    "ax.set_title(\"Precipitation Event\")\n",
    "ax.set_xlabel(\"time / minutes\")\n",
    "ax.set_ylabel(\"prec. height / mm\")\n",
    "ax.legend()\n",
    "plt.show()"
   ]
  },
  {
   "cell_type": "markdown",
   "id": "5920f0a7-4ac5-411e-b64c-20b1f76571ee",
   "metadata": {},
   "source": [
    "## Plotting Temperature Profiles in Walls\n",
    "\n",
    "This procedure is useful for plotting temperature profiles in walls when only temperature drops $\\Delta T_k$ are given."
   ]
  },
  {
   "cell_type": "code",
   "execution_count": 11,
   "id": "398d683d-23e8-4ac8-a778-17b5f88a2899",
   "metadata": {},
   "outputs": [],
   "source": [
    "import numpy as np\n",
    "import matplotlib.pyplot as plt"
   ]
  },
  {
   "cell_type": "code",
   "execution_count": 12,
   "id": "32c6bc24-7dc3-4487-b173-beb27356660d",
   "metadata": {},
   "outputs": [
    {
     "ename": "NameError",
     "evalue": "name 'Dy' is not defined",
     "output_type": "error",
     "traceback": [
      "\u001b[1;31m---------------------------------------------------------------------------\u001b[0m",
      "\u001b[1;31mNameError\u001b[0m                                 Traceback (most recent call last)",
      "\u001b[1;32m~\\AppData\\Local\\Temp/ipykernel_25616/2438780143.py\u001b[0m in \u001b[0;36m<module>\u001b[1;34m\u001b[0m\n\u001b[0;32m      4\u001b[0m \u001b[1;33m\u001b[0m\u001b[0m\n\u001b[0;32m      5\u001b[0m \u001b[0mx\u001b[0m \u001b[1;33m=\u001b[0m \u001b[0mDx\u001b[0m\u001b[1;33m.\u001b[0m\u001b[0mcumsum\u001b[0m\u001b[1;33m(\u001b[0m\u001b[1;33m)\u001b[0m \u001b[1;31m# cumulative sum of x\u001b[0m\u001b[1;33m\u001b[0m\u001b[1;33m\u001b[0m\u001b[0m\n\u001b[1;32m----> 6\u001b[1;33m \u001b[0mT\u001b[0m \u001b[1;33m=\u001b[0m \u001b[0mDy\u001b[0m\u001b[1;33m.\u001b[0m\u001b[0mcumsum\u001b[0m\u001b[1;33m(\u001b[0m\u001b[1;33m)\u001b[0m \u001b[1;31m# cumulative sum of the Delta Ts\u001b[0m\u001b[1;33m\u001b[0m\u001b[1;33m\u001b[0m\u001b[0m\n\u001b[0m\u001b[0;32m      7\u001b[0m \u001b[1;33m\u001b[0m\u001b[0m\n\u001b[0;32m      8\u001b[0m \u001b[0mprint\u001b[0m\u001b[1;33m(\u001b[0m\u001b[1;34m\"Dx:\"\u001b[0m\u001b[1;33m,\u001b[0m \u001b[0mDx\u001b[0m\u001b[1;33m)\u001b[0m\u001b[1;33m\u001b[0m\u001b[1;33m\u001b[0m\u001b[0m\n",
      "\u001b[1;31mNameError\u001b[0m: name 'Dy' is not defined"
     ]
    }
   ],
   "source": [
    "# increments, Deltas\n",
    "Dx = np.array([10,5,25,10])  # Delta x, x increments\n",
    "DT = -np.array([2,8,18,2])   # Delta T, T increments\n",
    "\n",
    "x = Dx.cumsum() # cumulative sum of x\n",
    "T = Dy.cumsum() # cumulative sum of the Delta Ts\n",
    "\n",
    "print(\"Dx:\", Dx)\n",
    "print(\"x: \", x)\n",
    "print()\n",
    "print(\"DT:\", DT)\n",
    "print(\"T :\", T)"
   ]
  },
  {
   "cell_type": "code",
   "execution_count": null,
   "id": "c9e074e8-54b6-4f24-b5e0-5fdbfdd6ee22",
   "metadata": {},
   "outputs": [],
   "source": [
    "# Add initial start values: Shift the series\n",
    "x0 = 0\n",
    "T0 = 40\n",
    "\n",
    "Xp = x0 + x\n",
    "Xp = np.insert(X,0,x0) # insert start value\n",
    "\n",
    "Tp = T0 + T\n",
    "Tp = np.insert(T,0,T0) # insert start value\n",
    "\n",
    "print(\"x:\", x)\n",
    "print(\"Xp:\", Xp)\n",
    "print()\n",
    "print(\"T:\", T)\n",
    "print(\"Tp:\", Tp)"
   ]
  },
  {
   "cell_type": "code",
   "execution_count": null,
   "id": "04a7eb09-2f78-4e92-9a89-18864a150d61",
   "metadata": {},
   "outputs": [],
   "source": [
    "print(\"\\nWARNING! All figure annotations (title, axes labels, legend, etc.) are still missing!\\n\")\n",
    "\n",
    "fig,ax = plt.subplots(figsize=(4,3), dpi = 136)\n",
    "\n",
    "ax.plot(X,Y,\"k\")\n",
    "\n",
    "Ymin, Ymax = 0.,50.\n",
    "ax.vlines(X,Ymin,Ymax, linestyles='solid')\n",
    "\n",
    "ax.grid(True)\n",
    "plt.show()"
   ]
  },
  {
   "cell_type": "markdown",
   "id": "7a7001fc-0a54-4cc4-84d2-610a087c8bf0",
   "metadata": {},
   "source": [
    "## Create Time Series as Pandas Data Frames"
   ]
  },
  {
   "cell_type": "code",
   "execution_count": null,
   "id": "922f1c1e-e385-4f5c-9d70-2327489d6506",
   "metadata": {},
   "outputs": [],
   "source": [
    "import pandas as pd\n",
    "import numpy as np\n",
    "import matplotlib.pyplot as plt"
   ]
  },
  {
   "cell_type": "code",
   "execution_count": null,
   "id": "38964607-77d0-4798-b916-b72ee52267a5",
   "metadata": {},
   "outputs": [],
   "source": [
    "N = 8 # number of periods (elements) in date range "
   ]
  },
  {
   "cell_type": "code",
   "execution_count": null,
   "id": "0f852960-00e5-4d3b-a6fb-a5211b5f97f6",
   "metadata": {
    "tags": []
   },
   "outputs": [],
   "source": [
    "# create 3 different but overlapping date ranges\n",
    "dti1 = pd.date_range(\"2022-07-01\", periods=N, freq=\"D\", tz=\"UTC\")\n",
    "dti2 = pd.date_range(\"2022-07-02\", periods=N, freq=\"D\", tz=\"UTC\")\n",
    "dti3 = pd.date_range(\"2022-07-03\", periods=N, freq=\"D\", tz=\"UTC\")\n",
    "print(f\"{dti1 = }\")\n",
    "print(f\"{dti2 = }\")\n",
    "print(f\"{dti3 = }\")"
   ]
  },
  {
   "cell_type": "code",
   "execution_count": null,
   "id": "d243afcd-7d90-41b2-90fb-2c78fd862373",
   "metadata": {},
   "outputs": [],
   "source": [
    "x = np.linspace(0.,10.,N)\n",
    "xc = 3.\n",
    "y = 1 - np.exp(-x/xc)"
   ]
  },
  {
   "cell_type": "code",
   "execution_count": null,
   "id": "cf68f0a3-1660-479e-8f4e-a06b7c90dd59",
   "metadata": {},
   "outputs": [],
   "source": [
    "df1 = pd.DataFrame({\"y1\" : 3*y}, index = dti1)\n",
    "df2 = pd.DataFrame({\"y2\" : 2*y}, index = dti2)\n",
    "df3 = pd.DataFrame({\"y3\" : 1*y}, index = dti3)"
   ]
  },
  {
   "cell_type": "code",
   "execution_count": null,
   "id": "28c36515-ef0c-439d-86e6-c88af8b9ab1b",
   "metadata": {},
   "outputs": [],
   "source": [
    "# 3 plots for three data frames\n",
    "fig1, ax1 = plt.subplots(figsize=(4,3),dpi=136)\n",
    "df1.plot(ax = ax1)\n",
    "df2.plot(ax = ax1)\n",
    "df3.plot(ax = ax1)\n",
    "ax1.set_xlim(\"2022-07-01\",\"2022-07-11\")\n",
    "ax1.grid(True)\n",
    "plt.show()"
   ]
  },
  {
   "cell_type": "markdown",
   "id": "0555dd5d-5795-447b-919a-108e9e730445",
   "metadata": {
    "tags": []
   },
   "source": [
    "## Join, Merge, Concat Pandas Time Series"
   ]
  },
  {
   "cell_type": "code",
   "execution_count": null,
   "id": "f68ed402-fac3-4e6f-9242-f82a5d66f232",
   "metadata": {},
   "outputs": [],
   "source": [
    "import pandas as pd\n",
    "import numpy as np\n",
    "import matplotlib.pyplot as plt"
   ]
  },
  {
   "cell_type": "code",
   "execution_count": null,
   "id": "abd7236f-3d1f-4c02-a42b-266af050b1e5",
   "metadata": {},
   "outputs": [],
   "source": [
    "x = np.linspace(0.,10.,N)\n",
    "xc = 3.\n",
    "y = 1 - np.exp(-x/xc)"
   ]
  },
  {
   "cell_type": "code",
   "execution_count": null,
   "id": "95593d7e-99cc-4f14-89de-af23ec3d5a0e",
   "metadata": {},
   "outputs": [],
   "source": [
    "# create 3 different but overlapping date ranges\n",
    "dti1 = pd.date_range(\"2022-07-01\", periods=N, freq=\"D\", tz=\"UTC\")\n",
    "dti2 = pd.date_range(\"2022-07-02\", periods=N, freq=\"D\", tz=\"UTC\")\n",
    "dti3 = pd.date_range(\"2022-07-03\", periods=N, freq=\"D\", tz=\"UTC\")"
   ]
  },
  {
   "cell_type": "code",
   "execution_count": null,
   "id": "550af5b4-a860-430b-bebb-463c9545887d",
   "metadata": {
    "tags": []
   },
   "outputs": [],
   "source": [
    "# Join columns with other DataFrame on index (default)\n",
    "df = pd.DataFrame()\n",
    "df = df.join(df1,how=\"outer\")\n",
    "df"
   ]
  },
  {
   "cell_type": "code",
   "execution_count": null,
   "id": "4ccaccca-2ee3-4394-b87f-aa24ccc2c797",
   "metadata": {},
   "outputs": [],
   "source": [
    "# The command is similar. The join could be done in a loop. \n",
    "df = df.join(df2,how=\"outer\")\n",
    "df"
   ]
  },
  {
   "cell_type": "code",
   "execution_count": null,
   "id": "838504b1-051f-4058-91ee-7296160c3362",
   "metadata": {},
   "outputs": [],
   "source": [
    "# The command is similar. The join could be done in a loop. \n",
    "df = df.join(df3,how=\"outer\")\n",
    "df"
   ]
  },
  {
   "cell_type": "code",
   "execution_count": null,
   "id": "6c295e5d-6a5e-4d88-ab3e-5ae15336bff8",
   "metadata": {},
   "outputs": [],
   "source": [
    "# THREE plots from ONE data frame\n",
    "fig2, ax2 = plt.subplots(figsize=(4,3),dpi=136)\n",
    "df.plot(ax = ax2)\n",
    "ax2.set_xlim(\"2022-07-01\",\"2022-07-11\")\n",
    "ax2.grid(True)\n",
    "plt.show()"
   ]
  },
  {
   "cell_type": "code",
   "execution_count": null,
   "id": "0fd9bde9-3860-4cd4-a099-fff291dbe312",
   "metadata": {},
   "outputs": [],
   "source": []
  }
 ],
 "metadata": {
  "kernelspec": {
   "display_name": "Python 3 (ipykernel)",
   "language": "python",
   "name": "python3"
  },
  "language_info": {
   "codemirror_mode": {
    "name": "ipython",
    "version": 3
   },
   "file_extension": ".py",
   "mimetype": "text/x-python",
   "name": "python",
   "nbconvert_exporter": "python",
   "pygments_lexer": "ipython3",
   "version": "3.9.7"
  }
 },
 "nbformat": 4,
 "nbformat_minor": 5
}
