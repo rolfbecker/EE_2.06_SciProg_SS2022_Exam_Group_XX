{
 "cells": [
  {
   "cell_type": "markdown",
   "id": "5e2c34c3-c5a9-4322-9d0f-f07c90d0f28a",
   "metadata": {},
   "source": [
    "# Task 00: Rules and Guidelines\n",
    "\n",
    "**Read the following rules and tutorials.**"
   ]
  },
  {
   "cell_type": "markdown",
   "id": "979ca5a6-cd1d-4e34-9cd8-4c497223d5b8",
   "metadata": {},
   "source": [
    "## 1. Some Rules\n",
    "\n",
    "<div class=\"alert-warning\">\n",
    "    WARNING: If you just write down numbers without explicitly calculating them in Python, we will not give any points for that!\n",
    "</div>\n",
    "\n",
    "<p>\n",
    "\n",
    "* **Do not use external spreadsheet programs or pocket calculators!**\n",
    "    <br>**Use Python code cell only** to perform your calculations in this Jupyter notebook!<br>\n",
    "* Use **formatted printing** to report the **results** of your calculations including **units!**\n",
    "* **Use markdown cells** to explain your approach and answers when necessary. Discuss and reflect, when appropriate. Are your results plausible?\n",
    "* **Add more code and markdown cells, if necessary.**  \n",
    "* If you use information from the **internet** you will have to provide the **references** (e.g. links) to the information sources uniquely. "
   ]
  },
  {
   "cell_type": "markdown",
   "id": "5334199b-92e5-432c-9b13-d4916e39c0a3",
   "metadata": {},
   "source": [
    "## 2. Example of a Comprehensive Question-Calculation-Answer Block\n",
    "\n",
    "**We expect you to produce an appropriate flow of question, calculation, and answer!** <br>\n",
    "Appropriate means that all of your steps, thoughts, and calculations are clear and **easy to understand**. In order to grade your work, we must be able to easily follow what you are doing. If you do your work in a way that is difficult for us to understand, you will **not get a good grade**. All your calculations have to be **explicit!** If you just write down a number you calculated with a pocket calculator or a spreadsheet program we will **deduct points** for this. \n",
    "\n",
    "In many cases it is enough to use **formatted printing** such as `print(f\"The mass of the ice block is m = {m:.2f}kg\")` in code cells to report your results. **But** sometimes you have to explain and justify your approach or you have to list your references clearly. **In these case you have to use markdown cells, too!** "
   ]
  },
  {
   "cell_type": "markdown",
   "id": "cb8814f1-c4bf-465d-9ef1-76853c9a1ea9",
   "metadata": {},
   "source": [
    "### Example"
   ]
  },
  {
   "cell_type": "markdown",
   "id": "e5e46266-2e1f-449b-8dbc-d89c1b8a7d34",
   "metadata": {},
   "source": [
    "**Question:** Find the desity $\\rho$ of water ice in the internet. Provide the link to your source of information. What is the weight force of $2\\mathrm{L}$ of ice, if its density is $\\rho$ and the gravitation acceleration is $9.8\\mathrm{m/s^2}$? Use SI units!"
   ]
  },
  {
   "cell_type": "code",
   "execution_count": 1,
   "id": "c44c219d-1a6d-4bf5-8bff-26b3162bb8be",
   "metadata": {},
   "outputs": [
    {
     "name": "stdout",
     "output_type": "stream",
     "text": [
      "The mass of the ice block is m = 1.83kg\n",
      "The weight force of the ice block is F = 17.97N\n"
     ]
    }
   ],
   "source": [
    "# Calculations:\n",
    "\n",
    "# Given\n",
    "g   = 9.8  # in m/s^2\n",
    "V   = 2.0*1e-3  # in m^3\n",
    "rho = 0.917*1e-3/(1e-2)**3  # in kg/m^3\n",
    "\n",
    "m = rho*V # mass of the ice in mg\n",
    "F = m*g # force in N\n",
    "\n",
    "print(f\"The mass of the ice block is m = {m:.2f}kg\")\n",
    "print(f\"The weight force of the ice block is F = {F:.2f}N\")"
   ]
  },
  {
   "cell_type": "markdown",
   "id": "2f10bb9a-4426-4474-8838-730efe9b2b08",
   "metadata": {},
   "source": [
    "**Answer:** <br>\n",
    "According to the Wikipedia article on [**Ice**](https://en.wikipedia.org/wiki/Ice) its density is approximately $\\rho = 0.917\\,\\mathrm{kg/L}= 917\\,\\mathrm{kg/m^3}$. \n",
    "<br>_(This markdown cell is necessary to explain the chosen value and to refer to the information source)._\n",
    "\n",
    "The weight force of the ice block is $F = 17.97\\,\\mathrm{kg\\,m\\,s^{-2}}$ (Alternatives: $F = 17.97\\,\\mathrm{\\frac{kg\\,m}{s^2}}$ or even $F = 17.97\\,\\mathrm{N}$).\n",
    "<br>_(This markdown cell is used in addition to formatted printing. It allows more freedom in typesetting.)_"
   ]
  },
  {
   "cell_type": "code",
   "execution_count": null,
   "id": "aa7170d5-f133-45cf-af71-20748d7622a4",
   "metadata": {},
   "outputs": [],
   "source": []
  }
 ],
 "metadata": {
  "kernelspec": {
   "display_name": "Python 3 (ipykernel)",
   "language": "python",
   "name": "python3"
  },
  "language_info": {
   "codemirror_mode": {
    "name": "ipython",
    "version": 3
   },
   "file_extension": ".py",
   "mimetype": "text/x-python",
   "name": "python",
   "nbconvert_exporter": "python",
   "pygments_lexer": "ipython3",
   "version": "3.9.7"
  }
 },
 "nbformat": 4,
 "nbformat_minor": 5
}
