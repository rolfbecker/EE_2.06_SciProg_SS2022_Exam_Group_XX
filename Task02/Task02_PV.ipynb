{
 "cells": [
  {
   "cell_type": "markdown",
   "metadata": {},
   "source": [
    "# Task 02: Photovoltaics\n"
   ]
  },
  {
   "cell_type": "markdown",
   "metadata": {},
   "source": [
    "`Author: Rolf Becker, Version: V003, Date: 2022-07-22, License: CC BY-NC-SA 4.0`"
   ]
  },
  {
   "cell_type": "markdown",
   "metadata": {
    "tags": []
   },
   "source": [
    "## 1. Introduction: The Sandia PV Performance Modeling Collaborative\n",
    "\n",
    "\n",
    "The US Sandia National Laboratories are renowned for their research and development in renewable energies. They established the **PV Performance Modeling Collaborative (PVPMC)**, a collabration between industry and national laboratory. The home page of PVPMC is here: https://pvpmc.sandia.gov/\n",
    "\n",
    "<img src=\"./images/pvpmc2.png\" width=1000 />\n",
    "\n",
    "_Fig. 1: PV performance modelling steps._ (Source: https://pvpmc.sandia.gov/)\n",
    "\n",
    "\n",
    "The PVPMC defined 10 modelling steps to assess PV module performance shown the the above diagram (Fig. 1). \n",
    "\n",
    "This exercise focuses on the **first two modeling steps:**\n",
    "1. Irradiance and Weather\n",
    "1. Incidence Irradiance\n",
    "\n",
    "Click on the menu item `Modelling Steps` of [PVPMC home page](https://pvpmc.sandia.gov/). This opens a new [sub page](https://pvpmc.sandia.gov/modeling-steps/) describing the modelling steps. \n",
    "\n",
    "**Q 1.1:** Skim _Chapter 1: Weather and Design_ of the [modeling steps documentation](https://pvpmc.sandia.gov/modeling-steps/) to get a rough overview of the **first two modeling steps!**"
   ]
  },
  {
   "cell_type": "code",
   "execution_count": null,
   "metadata": {},
   "outputs": [],
   "source": []
  },
  {
   "cell_type": "markdown",
   "metadata": {},
   "source": [
    "**Q 1.2:** Read the section [Irradiance & Insolation](https://pvpmc.sandia.gov/modeling-steps/1-weather-design-inputs/irradiance-and-insolation-2/) (not insulation!). \n",
    " How do you determine (= calculate) the insolation from the irradiance? What are typcial units for these two quantities?"
   ]
  },
  {
   "cell_type": "markdown",
   "metadata": {},
   "source": [
    "**Answer:** ..."
   ]
  },
  {
   "cell_type": "markdown",
   "metadata": {},
   "source": [
    "**Q 1.3:** What are normal irradiance, diffuse horizontal irradiance and global horizontal irradiance? What are the typical abbreviations / variable names of these quantities?"
   ]
  },
  {
   "cell_type": "markdown",
   "metadata": {},
   "source": [
    "**Answer:** ..."
   ]
  },
  {
   "cell_type": "markdown",
   "metadata": {},
   "source": [
    "**Q 1.4:** How do you measure these three radiation components? Find a photo in the internet showing an integrated measuring system combining the necessary sensors. Download the photo into the `images` folder of this task. Paste the image into your answer. Tip: Look up how to insert an image in the markdown cell showing the figure above. "
   ]
  },
  {
   "cell_type": "markdown",
   "metadata": {},
   "source": [
    "**Answer:** ..."
   ]
  },
  {
   "cell_type": "markdown",
   "metadata": {
    "tags": []
   },
   "source": [
    "## 2. PVLIB Python Library\n",
    "\n",
    "The PVPMC provides the comprehensive library `pvlib` for numerical quantitative evaluation of planned PV power plants and support during the design phase. \n",
    "All functions needed for the modeling steps are implemented in two programming libraries provided for Matlab and Python, respectively. \n",
    "\n",
    "**Q: 2.1** Create a Conda environment and Install the library.\n",
    "\n",
    "Relevant links are:\n",
    "\n",
    "* pvlib toolbox home page: https://pvpmc.sandia.gov/applications/pv_lib-toolbox/\n",
    "* Source code as well as example and tutorial code: https://github.com/pvlib/pvlib-python\n",
    "* Documentation: https://pvlib-python.readthedocs.io/en/latest/index.html\n",
    "\n",
    "It is highly recommended (but not mandatory) that you create a dedicated conda environment first with all necessary installations (e.g. jupyter, numpy, etc.) and to install pvlib into that isolated environment.\n",
    "\n",
    "Execute \n",
    "<br>\n",
    "`conda create -c conda-forge -n pvlib python=3 jupyterlab matplotlib pvlib-python` \n",
    "<br>on the Anaconda prompt (Windows) or another terminal. \n",
    "\n",
    "In this terminal activate the new conda environment (`conda activate pvlib`), change to your intended project root folder (`cd ...`), and start JupyterLab in this environment (`jupyter lab`). The folder you start Jupyter from will be the topmost folder (root folder) in the Jupyter file browser.\n",
    "\n"
   ]
  },
  {
   "cell_type": "code",
   "execution_count": 1,
   "metadata": {},
   "outputs": [],
   "source": [
    "import pvlib\n",
    "import pandas as pd\n",
    "import numpy as np\n",
    "import matplotlib.pyplot as plt"
   ]
  },
  {
   "cell_type": "markdown",
   "metadata": {},
   "source": [
    "**Q: 2.2** Get an **overview** of the [pvlib software documentation](https://pvlib-python.readthedocs.io/en/latest/index.html) (intro, tutorial, gallery, api reference). The [API reference](https://pvlib-python.readthedocs.io/en/latest/api.html) provides a list of all functions and classes provided by the toolbox.\n",
    "<br>What does `pvlib.location.Location.get_clearsky()` do?"
   ]
  },
  {
   "cell_type": "markdown",
   "metadata": {},
   "source": [
    "**Answer:** ..."
   ]
  },
  {
   "cell_type": "markdown",
   "metadata": {
    "tags": []
   },
   "source": [
    "## 3. Plane of Array (POA) Irradiance with Clear Sky Assumption\n",
    "\n",
    "Read https://pvpmc.sandia.gov/modeling-steps/1-weather-design-inputs/plane-of-array-poa-irradiance/\n",
    "\n",
    "When you set up a solar PV generator it usally consists of a set of modules which is called array. The normal vector (aka normal) of the array is the direction vector (unit length) perpendicular on the PV modules surface. Usually all modules of an PV module array point in the same direction, i.e. have the same normal vector. These parallel PV module surfaces are summarized as the **Plane of Array (POA)**. The direction of the POA is the direction of each module.\n",
    "\n",
    "\n",
    "\n",
    "The function [**pvlib.irradiance.get_total_irradiance()**](https://pvlib-python.readthedocs.io/en/stable/reference/generated/pvlib.irradiance.get_total_irradiance.html) does the main job to get the irradiance at the surface of the PV array, i.e. on the POA. The function transforms and projects the radiation components (dni, ghi, dhi) for a given solar position (solar_zenith, solar_azimuth) onto the POA with its specific surface orientation (POA normal vector, surface_tilt, surface_azimuth). The module orientation is fixed, but solar position as well as radiation components are time series varying with time of day, season and even weather conditions, e.g. if radiation data of the \"typical meteorological year\" (TMY) is used instead of clear sky radiation. \n",
    "\n"
   ]
  },
  {
   "cell_type": "markdown",
   "metadata": {},
   "source": [
    "\n",
    "**Q 3.1:** The pylib documentation shows an example how to perform the transformation from GHI to the POA irradiance. \n",
    "<br>**Study and reuse the code** [**GHI to POA Transposition**](https://pvlib-python.readthedocs.io/en/stable/gallery/irradiance-transposition/plot_ghi_transposition.html). \n",
    "\n",
    "This code follows an object oriented approach in which the variable `site` is a `Location` object **([pvlib.location.Location](https://pvlib-python.readthedocs.io/en/v0.9.0/generated/pvlib.location.Location.html))**. Have a look at the [**function's source code**](https://pvlib-python.readthedocs.io/en/stable/_modules/pvlib/location.html).\n",
    "\n",
    "\n",
    "The Location object `site` provides the functions to get the clear sky irradiance components as well as the solar position: \n",
    "```\n",
    "clearsky       = site_location.get_clearsky(times)\n",
    "solar_position = site_location.get_solarposition(times=times)\n",
    "```\n",
    "\n",
    "These two time series then enter the function `pvlib.irradiance.get_total_irradiance()` which does the transformation onto the POA.\n",
    "\n",
    "In the given example linked to above during summer solstice the POA irradiance and the GHI are almost equal. So why are PV modules on flat roofs in most cases installed with a tilt angle, if POA and GHI are almost equal during summer? \n"
   ]
  },
  {
   "cell_type": "markdown",
   "metadata": {},
   "source": [
    "**Answer:** ..."
   ]
  },
  {
   "cell_type": "markdown",
   "metadata": {},
   "source": [
    "### Background Information\n",
    "#### Time Zones\n",
    "* Time zone list: https://en.wikipedia.org/wiki/List_of_tz_database_time_zones\n",
    "* PVLIB doc on time and time zones: https://pvlib-python.readthedocs.io/en/v0.4.3/timetimezones.html"
   ]
  },
  {
   "cell_type": "markdown",
   "metadata": {},
   "source": [
    "#### Location Class, Location Object\n",
    "* Documentation: https://pvlib-python.readthedocs.io/en/v0.9.0/generated/pvlib.location.Location.html\n",
    "* **Source code** of Location class: https://pvlib-python.readthedocs.io/en/stable/_modules/pvlib/location.html"
   ]
  },
  {
   "cell_type": "code",
   "execution_count": 2,
   "metadata": {},
   "outputs": [
    {
     "data": {
      "text/plain": [
       "\u001b[1;31mInit signature:\u001b[0m\n",
       " \u001b[0mpvlib\u001b[0m\u001b[1;33m.\u001b[0m\u001b[0mlocation\u001b[0m\u001b[1;33m.\u001b[0m\u001b[0mLocation\u001b[0m\u001b[1;33m(\u001b[0m\u001b[1;33m\n",
       "\u001b[0m    \u001b[0mlatitude\u001b[0m\u001b[1;33m,\u001b[0m\u001b[1;33m\n",
       "\u001b[0m    \u001b[0mlongitude\u001b[0m\u001b[1;33m,\u001b[0m\u001b[1;33m\n",
       "\u001b[0m    \u001b[0mtz\u001b[0m\u001b[1;33m=\u001b[0m\u001b[1;34m'UTC'\u001b[0m\u001b[1;33m,\u001b[0m\u001b[1;33m\n",
       "\u001b[0m    \u001b[0maltitude\u001b[0m\u001b[1;33m=\u001b[0m\u001b[1;36m0\u001b[0m\u001b[1;33m,\u001b[0m\u001b[1;33m\n",
       "\u001b[0m    \u001b[0mname\u001b[0m\u001b[1;33m=\u001b[0m\u001b[1;32mNone\u001b[0m\u001b[1;33m,\u001b[0m\u001b[1;33m\n",
       "\u001b[0m\u001b[1;33m)\u001b[0m\u001b[1;33m\u001b[0m\u001b[1;33m\u001b[0m\u001b[0m\n",
       "\u001b[1;31mDocstring:\u001b[0m     \n",
       "Location objects are convenient containers for latitude, longitude,\n",
       "timezone, and altitude data associated with a particular\n",
       "geographic location. You can also assign a name to a location object.\n",
       "\n",
       "Location objects have two timezone attributes:\n",
       "\n",
       "    * ``tz`` is a IANA timezone string.\n",
       "    * ``pytz`` is a pytz timezone object.\n",
       "\n",
       "Location objects support the print method.\n",
       "\n",
       "Parameters\n",
       "----------\n",
       "latitude : float.\n",
       "    Positive is north of the equator.\n",
       "    Use decimal degrees notation.\n",
       "\n",
       "longitude : float.\n",
       "    Positive is east of the prime meridian.\n",
       "    Use decimal degrees notation.\n",
       "\n",
       "tz : str, int, float, or pytz.timezone, default 'UTC'.\n",
       "    See\n",
       "    http://en.wikipedia.org/wiki/List_of_tz_database_time_zones\n",
       "    for a list of valid time zones.\n",
       "    pytz.timezone objects will be converted to strings.\n",
       "    ints and floats must be in hours from UTC.\n",
       "\n",
       "altitude : float, default 0.\n",
       "    Altitude from sea level in meters.\n",
       "\n",
       "name : None or string, default None.\n",
       "    Sets the name attribute of the Location object.\n",
       "\n",
       "See also\n",
       "--------\n",
       "pvlib.pvsystem.PVSystem\n",
       "\u001b[1;31mFile:\u001b[0m           c:\\users\\rb\\anaconda3\\envs\\pvlib\\lib\\site-packages\\pvlib\\location.py\n",
       "\u001b[1;31mType:\u001b[0m           type\n",
       "\u001b[1;31mSubclasses:\u001b[0m     \n"
      ]
     },
     "metadata": {},
     "output_type": "display_data"
    }
   ],
   "source": [
    "# get online help\n",
    "? pvlib.location.Location"
   ]
  },
  {
   "cell_type": "markdown",
   "metadata": {},
   "source": [
    "**Q 3.2:** Create a **Location object** for the GFL location and Store it in a **dictionary** named `sites`. Use the **name as key.** Find the right **time zone name** from the Wikipediia link above!"
   ]
  },
  {
   "cell_type": "code",
   "execution_count": 3,
   "metadata": {},
   "outputs": [],
   "source": [
    "# code\n",
    "\n",
    "# name = \"GFL\"\n",
    "# tz = ...\n",
    "# lat = 51.498\n",
    "# lon = 6.549\n",
    "# alt = 20.0\n",
    "\n",
    "# later a Location object is needed to call the function get_solarposition()\n",
    "# site = pvlib.location.Location(lat, ..., ..., ..., name)\n",
    "\n",
    "# sites = {...}\n",
    "\n",
    "# print(sites[\"GFL\"])"
   ]
  },
  {
   "cell_type": "code",
   "execution_count": 4,
   "metadata": {},
   "outputs": [
    {
     "name": "stdout",
     "output_type": "stream",
     "text": [
      "Location: \n",
      "  name: GFL\n",
      "  latitude: 51.498\n",
      "  longitude: 6.549\n",
      "  altitude: 20.0\n",
      "  tz: Europe/Berlin\n"
     ]
    }
   ],
   "source": [
    "# Soln:\n",
    "# code\n",
    "\n",
    "name = \"GFL\"\n",
    "tz = \"Europe/Berlin\"\n",
    "lat = 51.498\n",
    "lon = 6.549\n",
    "alt = 20.0\n",
    "\n",
    "# later a Location object is needed to call the function get_solarposition()\n",
    "site = pvlib.location.Location(lat, lon, tz, alt, name)\n",
    "\n",
    "sites = {name : site}\n",
    "\n",
    "print(sites[\"GFL\"])"
   ]
  },
  {
   "cell_type": "markdown",
   "metadata": {},
   "source": [
    "**Q 3.3:** Calculate the **POA irradiance** for modules **in the garden of the Green Fab Lab Kamp-Lintfort** for the year 2020! Modify the above mentioned example code. \n",
    "\n",
    "* For simplicity use the **clear sky** irradiance model (as in the example).\n",
    "* Use **three dates: winter solstice, spring equinoxe, and summer solstice.** \n",
    "* The modules are oriented exactly to the **southwest (SW)** (and not to the south (180°)).\n",
    "* Do the analysis for **two different tilt angles: 30° and 60°.**<br>(A module lying flat on the ground has a tilt angle of 0°)\n",
    "* Plot all six cases in **six subplots arranged in three rows and two columns (3x2)**. \n",
    "\n",
    "The columns contain the simulations for 30° and 60° tilt angle, respectively. First, second and third row show the results for winter solstice, spring equinoxe and summer solstice, respectively. **Use the same axes scaling for all six plots.**\n",
    "\n",
    "The figure below shows an **example for 2x2 subplots with shared axes:**\n",
    "\n",
    "<img src=\"./images/subplots_shared_axes.png\" width=600 />\n",
    "\n",
    "You can learn more about subplots with the Jupyter notebook `subplots_demo.ipynb`. You find it online as part of the official matplotlib documentation (demo section) and a slightly modified local copy in the folder of this notebook. "
   ]
  },
  {
   "cell_type": "markdown",
   "metadata": {},
   "source": [
    "\n",
    "\n",
    "**Your final result should look similar (not necessarily identical) to the following solution:**\n",
    "\n",
    "<img src=\"./images/GFL_CS_GHI_POA.png\" width=900 />\n"
   ]
  },
  {
   "cell_type": "code",
   "execution_count": 5,
   "metadata": {},
   "outputs": [],
   "source": [
    "# HELPER FUNCTION!\n",
    "# Calculate clear-sky GHI and transpose to plane of array\n",
    "# Define a function so that we can re-use the sequence of operations with\n",
    "# different locations\n",
    "\n",
    "#from pvlib import location\n",
    "#from pvlib import irradiance\n",
    "\n",
    "def get_irradiance(site_location, date, tilt, surface_azimuth):\n",
    "    # Creates one day's worth of 10 min intervals\n",
    "    times = pd.date_range(date, freq='10min', periods=6*24,\n",
    "                          tz=site_location.tz)\n",
    "    # Generate clearsky data using the Ineichen model, which is the default\n",
    "    # The get_clearsky method returns a dataframe with values for GHI, DNI,\n",
    "    # and DHI\n",
    "    clearsky = site_location.get_clearsky(times)\n",
    "    # Get solar azimuth and zenith to pass to the transposition function\n",
    "    solar_position = site_location.get_solarposition(times=times)\n",
    "    # Use the get_total_irradiance function to transpose the GHI to POA\n",
    "    POA_irradiance = pvlib.irradiance.get_total_irradiance(\n",
    "        surface_tilt=tilt,\n",
    "        surface_azimuth=surface_azimuth,\n",
    "        dni=clearsky['dni'],\n",
    "        ghi=clearsky['ghi'],\n",
    "        dhi=clearsky['dhi'],\n",
    "        solar_zenith=solar_position['apparent_zenith'],\n",
    "        solar_azimuth=solar_position['azimuth'])\n",
    "    \n",
    "    # Return DataFrame with only GHI and POA\n",
    "    return pd.DataFrame({'GHI': clearsky['ghi'],\n",
    "                         'POA': POA_irradiance['poa_global']})\n",
    "\n"
   ]
  },
  {
   "cell_type": "code",
   "execution_count": 6,
   "metadata": {
    "jp-MarkdownHeadingCollapsed": true,
    "tags": []
   },
   "outputs": [
    {
     "data": {
      "image/png": "[encoded data removed]",
      "text/plain": [
       "<Figure size 1224x1224 with 6 Axes>"
      ]
     },
     "metadata": {
      "needs_background": "light"
     },
     "output_type": "display_data"
    }
   ],
   "source": [
    "# Code:\n",
    "\n",
    "tilt1 = 30\n",
    "tilt2 = 60\n",
    "\n",
    "surface_azimuth1 = 225\n",
    "surface_azimuth2 = 225\n",
    "\n",
    "winter = \"2019-12-21\"\n",
    "spring = \"2019-03-21\"\n",
    "summer = \"2019-06-21\"\n",
    "\n",
    "winter_irradiance_1 = get_irradiance(site, winter, tilt1, surface_azimuth1)\n",
    "winter_irradiance_2 = get_irradiance(site, winter, tilt2, surface_azimuth2)\n",
    "spring_irradiance_1 = get_irradiance(site, spring, tilt1, surface_azimuth1)\n",
    "spring_irradiance_2 = get_irradiance(site, spring, tilt2, surface_azimuth2)\n",
    "summer_irradiance_1 = get_irradiance(site, summer, tilt1, surface_azimuth1)\n",
    "summer_irradiance_2 = get_irradiance(site, summer, tilt2, surface_azimuth2)\n",
    "\n",
    "# Convert Dataframe Indexes to Hour:Minute format to make plotting easier\n",
    "summer_irradiance_1.index = summer_irradiance_1.index.strftime(\"%H:%M\")\n",
    "winter_irradiance_1.index = winter_irradiance_1.index.strftime(\"%H:%M\")\n",
    "spring_irradiance_1.index = spring_irradiance_1.index.strftime(\"%H:%M\")\n",
    "summer_irradiance_2.index = summer_irradiance_2.index.strftime(\"%H:%M\")\n",
    "winter_irradiance_2.index = winter_irradiance_2.index.strftime(\"%H:%M\")\n",
    "spring_irradiance_2.index = spring_irradiance_2.index.strftime(\"%H:%M\")\n",
    "\n",
    "fig = plt.figure(figsize=(9,9), dpi=136)\n",
    "gs = fig.add_gridspec(3, 2, hspace=0.0, wspace=0.0)\n",
    "\n",
    "# two kinds of axis references\n",
    "axs = (ax1, ax2), (ax3, ax4), (ax5, ax6) =  gs.subplots(sharex='col', sharey='row')\n",
    "\n",
    "summer_irradiance_1['GHI'].plot(ax=ax1, label='GHI')\n",
    "summer_irradiance_1['POA'].plot(ax=ax1, label='POA')\n",
    "# ...\n",
    "# ...\n",
    "ax1.set_ylabel('Summer Irradiance ($\\mathrm{W/m^2}$)')\n",
    "\n",
    "\n",
    "# ...\n",
    "# ...\n",
    "# ...\n",
    "# ...\n",
    "ax3.set_ylabel('Spring Irradiance ($\\mathrm{W/m^2}$)')\n",
    "\n",
    "# ...\n",
    "# ...\n",
    "# ...\n",
    "# ...\n",
    "ax5.set_ylabel('Winter Irradiance ($\\mathrm{W/m^2}$)')\n",
    "\n",
    "\n",
    "for row in axs:\n",
    "    for ax in row:\n",
    "        ax.set_ylim(-100,1100)\n",
    "        # ...\n",
    "        # ...\n",
    "\n",
    "# fig.suptitle('...', y=0.95)\n",
    "\n",
    "ax1.set_title(f\"Azimuth={surface_azimuth1:d}°, Tilt={tilt1:d}°\", fontsize=\"medium\")\n",
    "# ...\n",
    "\n",
    "# ...\n",
    "ax6.set_xlabel('Time of Day')\n",
    "\n",
    "# row indexes to be used as labels\n",
    "xtick_idx = np.arange(0,144,12)\n",
    "xtick_labels = winter_irradiance_1.index[xtick_idx]\n",
    "\n",
    "ax5.set_xticks(xtick_idx, xtick_labels, rotation='vertical')\n",
    "# ...\n",
    "\n",
    "# y-ticks and labels\n",
    "ytick_vals = np.arange(0,1001,100)\n",
    "ytick_labels = ytick_vals\n",
    "# ...\n",
    "ax3.set_yticks(ytick_vals, ytick_labels)\n",
    "# ...\n",
    "\n",
    "plt.show()\n"
   ]
  },
  {
   "cell_type": "code",
   "execution_count": null,
   "metadata": {},
   "outputs": [],
   "source": []
  },
  {
   "cell_type": "markdown",
   "metadata": {},
   "source": [
    "**Q 3.4:** The daily **GHI curves look symmetrical**, i.e. you can flip them around a vertical axis in the center of the curve and they look the same. But the POA curces have kinks and dents and the locations (times) of their maxima do not coincide with the locations of the GHI maxima. **So why are the POA curves asymmetric?**"
   ]
  },
  {
   "cell_type": "markdown",
   "metadata": {},
   "source": [
    "**Answer:** ..."
   ]
  },
  {
   "cell_type": "markdown",
   "metadata": {
    "tags": []
   },
   "source": [
    "**Q 3.5:** What do observe when you compare the insolation for the two tilt angles? Which tilt is \"better\"?"
   ]
  },
  {
   "cell_type": "markdown",
   "metadata": {},
   "source": [
    "**Answer:** ..."
   ]
  },
  {
   "cell_type": "markdown",
   "metadata": {
    "tags": []
   },
   "source": [
    "\n",
    "## 4. Plot the Sun Paths for Kamp-Lintfort\n",
    "\n",
    "In the above example we just used three different days of the year but the sun path varies over the year (see [**Sun Path**](https://en.wikipedia.org/wiki/Sun_path) on Wikipedia). We discussed the sun path diagram in Physics 2. \n",
    "<br>**Start with** [**this code**](https://pvlib-python.readthedocs.io/en/stable/gallery/solar-position/plot_sunpath_diagrams.html) and adapt it accordingly!\n"
   ]
  },
  {
   "cell_type": "markdown",
   "metadata": {},
   "source": [
    "**Q 4.1:** Plot the sun paths for Kamp-Lintfort in **polar** as well as **Cartesian** cordinates. Plot single-day sun paths for the winter and summer solstices as well as the spring equinox. Use the right time zone as well as geographical coordinates for Kamp-Lintfort. The polar plot and of the solar path will then show the time in UTC. \n",
    "<br>Create a larger plot than the default, e.g. use something like `fig, ax = plt.subplots(figsize = (8,6), dpi = 150)`."
   ]
  },
  {
   "cell_type": "code",
   "execution_count": 7,
   "metadata": {},
   "outputs": [],
   "source": [
    "# Code for POLAR COORDINATES\n",
    "\n",
    "#  ..."
   ]
  },
  {
   "cell_type": "code",
   "execution_count": 8,
   "metadata": {},
   "outputs": [],
   "source": [
    "# Code for CARTESIAN COORDINATES\n",
    "\n",
    "# ..."
   ]
  },
  {
   "cell_type": "markdown",
   "metadata": {},
   "source": [
    "**Q 4.2:** What is the solar zenith angle at Kamp-Lintfort on summer solstice at 10:00 UTC? "
   ]
  },
  {
   "cell_type": "markdown",
   "metadata": {},
   "source": [
    "**Answer:** ..."
   ]
  },
  {
   "cell_type": "markdown",
   "metadata": {},
   "source": [
    "**Q 4.3:** What is the 10:00 UTC in local time for summer and in winter, respectively?"
   ]
  },
  {
   "cell_type": "markdown",
   "metadata": {},
   "source": [
    "**Answer:** ..."
   ]
  },
  {
   "cell_type": "markdown",
   "metadata": {},
   "source": [
    "**Q 4.4:** What is an analemma?"
   ]
  },
  {
   "cell_type": "markdown",
   "metadata": {},
   "source": [
    "**Answer:** ..."
   ]
  },
  {
   "cell_type": "markdown",
   "metadata": {},
   "source": [
    "## 5. Typical Meteorological Year (TMY) from the PVGIS Tools\n",
    "\n",
    "The clear sky assumption having been used so far to estimate GHI, DHI, and DNI irradiance components does not take into account any weather conditions! The performance estimates based on clear sky assumption are less precise. It would be better to have real site specific data but unfortunatly the precise measurement of the irradiance componentsis difficult and expensive. \n"
   ]
  },
  {
   "cell_type": "markdown",
   "metadata": {},
   "source": [
    "### Radiation Databases\n",
    "\n",
    "A good alternative is the usage of **satellite data** to regionalize the irradiance. The ground level irradiance data cannot be observed directly from satellites but estimated by means of available satellite measurements, radiation modeling as well as ground truth (ground measurement) data for calibration.\n",
    "\n",
    "One solution (aka product) is provided by the [Satellite Application Facility on Climate Monitoring (CM-SAF)](https://www.cmsaf.eu/EN/Home/home_node.html). The website states: \"CM-SAF develops, generates, archives and distributes high-quality satellite-derived products of the global energy & water cycle and related sustained services in support to understand our climate.\" And \"The new CMSAF solar radiation product SARAH-2.1 (PVGIS-SARAH2) has been added to PVGIS with data from 2005 to 2020.\" ([PVGIS 5.2 release notes](https://joint-research-centre.ec.europa.eu/pvgis-photovoltaic-geographical-information-system/pvgis-releases/pvgis-52_en)). The Joint Research Center (JRC) of the European Commission (EC) provide the [PVGIS tools](https://joint-research-centre.ec.europa.eu/pvgis-photovoltaic-geographical-information-system_en) for PV systems design. This ground level SARAH-2 radiation data is accessible through PVGIS. \n",
    "\n",
    "Several radiation databases are combined and used by default for different regions. \n",
    "The [PVGIS 5.2 Release Notes](https://joint-research-centre.ec.europa.eu/pvgis-photovoltaic-geographical-information-system/pvgis-releases/pvgis-52_en) states: \n",
    "<br>\"The new default radiation database is a combination of PVGIS-SARAH2 and PVGIS-SARAH (Europe, Africa, Central Asia), PVGIS-NSRDB (Americas) and PVGIS-ERA5 (Nordic countries above 60 N and the rest of the world).\"\n",
    "\n",
    "<img src=\"./images/PVGIS_Default_Solar_Radiation_Database_100ppi_1.png\" width=600 />\n",
    "\n",
    "_Fig.: Default Solar Radiation Databases in PVGIS 5.2, European Union, 2022_.\n",
    "<br>(Source: [PVGIS 5.2 Release Notes](https://joint-research-centre.ec.europa.eu/pvgis-photovoltaic-geographical-information-system/pvgis-releases/pvgis-52_en))\n",
    "\n",
    "\n",
    "PVGIS uses and provides the radiation data in three ways: \n",
    "\n",
    "1. the radiation data is directly used in the PVGIS interactive web dashboard.\n",
    "1. The data can be downloaded from the PVGIS website, too.\n",
    "1. The data is provoded as a [non-inteactive service API](https://joint-research-centre.ec.europa.eu/pvgis-photovoltaic-geographical-information-system/getting-started-pvgis/api-non-interactive-service_en).\n",
    "\n",
    "The latter method uses web requests to retrieve the data from the central PVGIS radiation database.\n",
    "The PVLIB Python library uses this PVGIS Web API. The [pvlib.iotools.pvgis](https://pvlib-python.readthedocs.io/en/stable/_modules/pvlib/iotools/pvgis.html) source code shows how this is done. \n"
   ]
  },
  {
   "cell_type": "markdown",
   "metadata": {},
   "source": [
    "\n",
    "**Q 5.1:** The source code defines several functions: Most of them start with an underscore `_`. These functions are for internal use only (private). But four function names do not start with an underscore and are therefore externally available. What are these four function? Some functions start with `get_` others with `read_`. What is the difference between these functions?\n"
   ]
  },
  {
   "cell_type": "markdown",
   "metadata": {},
   "source": [
    "**Answer:** ..."
   ]
  },
  {
   "cell_type": "markdown",
   "metadata": {},
   "source": [
    "### TMY Data\n",
    "\n",
    "An analysis of hourly radiation data for decades of data availability can be cumbersome, too, because of the amount of data. Therefore radiation data is often summarized in TMY: From multi-year time series the months are selected, which are most representative. The PVGIS Tools provides such a TMY generator as a web service with a Web API. \n",
    "\n",
    "The `pvlib.iotools.get_pvgis_tmy()` function utilizes the PVGIS TMY web service and retreives the data through a web request.\n"
   ]
  },
  {
   "cell_type": "markdown",
   "metadata": {
    "jp-MarkdownHeadingCollapsed": true,
    "tags": []
   },
   "source": [
    "### Supplementary Information\n",
    "\n",
    "This link list is uncommented but may be useful.\n",
    "\n",
    "On TMY:\n",
    "* https://en.wikipedia.org/wiki/Typical_meteorological_year\n",
    "* https://www.pveducation.org/pvcdrom/properties-of-sunlight/typical-meteorological-year-data-tmy\n",
    "* https://e3p.jrc.ec.europa.eu/articles/typical-meteorological-year-tmy\n",
    "\n",
    "From the Joint Research Center (JRC) of the European Commission, on PVGIS Tools\n",
    "* PVGIS: https://joint-research-centre.ec.europa.eu/pvgis-photovoltaic-geographical-information-system_en\n",
    "* TMY Generator: https://joint-research-centre.ec.europa.eu/pvgis-photovoltaic-geographical-information-system/pvgis-tools/tmy-generator_en\n",
    "* TMY Generator Web Service: https://joint-research-centre.ec.europa.eu/pvgis-photovoltaic-geographical-information-system/getting-started-pvgis/api-non-interactive-service_en\n",
    "\n",
    "JRC TMY RESTful API:\n",
    "* https://re.jrc.ec.europa.eu/api/DRcalc?lat=45&lon=8&month=3&global=1&outputformat=json\n",
    "\n",
    "The PVGIS Radiation Databases Downloads:\n",
    "* https://joint-research-centre.ec.europa.eu/pvgis-photovoltaic-geographical-information-system/pvgis-data-download_en\n",
    "\n",
    "The functions `pvlib.iotools.get_pvgis_tmy()` and `pvlib.iotools.get_pvgis_hourly()` use the web request API to retrieve data from the PVGIS databases.\n",
    "* Source code for pvlib.iotools.pvgis: https://pvlib-python.readthedocs.io/en/stable/_modules/pvlib/iotools/pvgis.html\n",
    "* Help on get_pvgis_tmy(): https://pvlib-python.readthedocs.io/en/stable/reference/generated/pvlib.iotools.get_pvgis_tmy.html\n",
    "* Help on get_pvgis_hourly(): https://pvlib-python.readthedocs.io/en/stable/reference/generated/pvlib.iotools.get_pvgis_hourly.html\n"
   ]
  },
  {
   "cell_type": "markdown",
   "metadata": {
    "tags": []
   },
   "source": [
    "### The PVGIS Web API: Hourly Time Series for the Year 2016\n",
    "\n",
    "**Q 5.2:** Play with the PVGIS non-interactive web service. **Read the [TMY generator API documentation](https://joint-research-centre.ec.europa.eu/pvgis-photovoltaic-geographical-information-system/getting-started-pvgis/api-non-interactive-service_en)! Learn how to use it!**\n",
    "\n",
    "Example: The following GET request provides the **hourly radiation** for (Lat,Lon) = (45°, 8°) with JSON output format:\n",
    "<br>\n",
    "**https://re.jrc.ec.europa.eu/api/seriescalc?lat=45&lon=8&startyear=2013&endyear=2013&outputformat=csv**\n",
    "\n",
    "The **query string** of this request is `lat=45&lon=8&startyear=2013&endyear=2013&outputformat=csv`. \n",
    "\n",
    "The result of this request is displayed in the browser window. The text is confusing and pretty useless: Line breaks are not rendered correctly.\n",
    "\n",
    "**Build your own GET request!** Use this Web API to retrieve the daily radiation data for:\n",
    "* location: Green Fab Lab (**NOT** (Lat,Lon) = (45°, 8°))\n",
    "* year: **2016** only!\n",
    "* get **all radiation components** (i.e. columns (= series) `Gb(i), Gd(i), Gr(i)` must be contained in the downloaded file) \n",
    "* output format: **CSV**\n",
    "* output as **downloadable file** (not as stream). \n",
    "\n",
    "Read the API doc to identify the **query string option** which makes the browser opening a **download dialog** to save the file (instead of showing the content in the browser window). See the API documentation to identify the query string option that causes the browser to open a download dialog to save the file (instead of displaying the content in the browser window).\n",
    "\n",
    "Save the downloaded CSV file into the **local directory `./data`.**"
   ]
  },
  {
   "cell_type": "markdown",
   "metadata": {},
   "source": [
    "**Answer:** The GET request to download the data is: **https://re.jrc.ec.europa.eu/api/seriescalc?lat=51...&lon=6...&startyear=2016&...&...**\n",
    "<br>(The GET request should be such that when a user left(!) clicks on the link, the browser initiates the download, opens a dialog box and asks where the data should be stored.) "
   ]
  },
  {
   "cell_type": "markdown",
   "metadata": {},
   "source": [
    "**Q 5.3:** Open the downloaded hourly radiation data file (CSV format) with an editor. How is it structured?\n",
    "What do the column names `Gb(i), Gd(i), Gr(i)` mean? You find this metadata in the CSV file.\n",
    "\n",
    "Read the radiation data only into a pandas **dataframe** for the **Green Fab Lab location!** The easiest way to limit the CSV file to the radiation data including column headers only is to skip the first rows (`skiprows=...)` and then to read just the right number of rows (`nrows=...`). The number of rows are known in advance. you are reading hourly data for a year ..."
   ]
  },
  {
   "cell_type": "markdown",
   "metadata": {},
   "source": [
    "**Answer:** The column names `Gb(i), Gd(i), Gr(i)` mean ..."
   ]
  },
  {
   "cell_type": "code",
   "execution_count": 9,
   "metadata": {},
   "outputs": [],
   "source": [
    "# Code\n",
    "\n",
    "# df_2016 = pd.read_csv(\"./data/Timeseries_[...].csv\", skiprows =, nrows = )\n",
    "\n",
    "# df_2016"
   ]
  },
  {
   "cell_type": "markdown",
   "metadata": {},
   "source": [
    "**Q 5.4:** The format of the time column in the data is strange. Convert the column to a real datetime64 format. Make the time column the persistent(!) index of the dataframe."
   ]
  },
  {
   "cell_type": "code",
   "execution_count": 10,
   "metadata": {},
   "outputs": [],
   "source": [
    "# Code:\n",
    "\n",
    "# df_2016[\"time\"] = pd.to_datetime(df_2016[\"time\"],format = \"%Y%m%d:%H%M\", utc=1)\n",
    "\n",
    "# df_2016.set_index ...\n",
    "\n",
    "# df_2016"
   ]
  },
  {
   "cell_type": "markdown",
   "metadata": {},
   "source": [
    "**Q 5.4:** Plot the dataframe columns `Gb(i)` and `Gd(i)` using `df_2016[[...]].plot()`. Create a figure of appropriate size (not too small). Define a title and label the axes including units! "
   ]
  },
  {
   "cell_type": "code",
   "execution_count": 11,
   "metadata": {},
   "outputs": [],
   "source": [
    "# fig, ax = ...\n",
    "# df_2016[[...,...]].plot(ax = ax)\n",
    "# ...\n",
    "# plt.show()"
   ]
  },
  {
   "cell_type": "markdown",
   "metadata": {},
   "source": [
    "**Q 5.5:** Plot the same dataframe columns but for the time range from 2016-03-18 to 2016-03-24 (7 days, including both limits). "
   ]
  },
  {
   "cell_type": "code",
   "execution_count": 12,
   "metadata": {},
   "outputs": [],
   "source": [
    "# Code:\n",
    "\n",
    "# ..."
   ]
  },
  {
   "cell_type": "markdown",
   "metadata": {},
   "source": [
    "### Read the TMY Hourly Data from PVGIS with `pvlib.iotools.get_pvgis_tmy()`\n",
    "\n",
    "Direct use of the PVGIS Web API provides maximum flexibility in accessing the radiation data, but is somewhat cumbersome. The `pvlib.iotools.get_pvgis_tmy()` function provides an elegant interface to the PVGIS Web API for radiation data. It selects the most representative months from the available years and provides data in **hourly** resolution."
   ]
  },
  {
   "cell_type": "markdown",
   "metadata": {},
   "source": [
    "**Q 5.6:** Read the following help on the function `get_pvgis_tmy()`. What is the **URL** of the service? What are the **four outputs** (aka returns) of the function?"
   ]
  },
  {
   "cell_type": "markdown",
   "metadata": {},
   "source": [
    "**Answer:** ..."
   ]
  },
  {
   "cell_type": "code",
   "execution_count": 13,
   "metadata": {},
   "outputs": [
    {
     "data": {
      "text/plain": [
       "\u001b[1;31mSignature:\u001b[0m\n",
       " \u001b[0mpvlib\u001b[0m\u001b[1;33m.\u001b[0m\u001b[0miotools\u001b[0m\u001b[1;33m.\u001b[0m\u001b[0mget_pvgis_tmy\u001b[0m\u001b[1;33m(\u001b[0m\u001b[1;33m\n",
       "\u001b[0m    \u001b[0mlatitude\u001b[0m\u001b[1;33m,\u001b[0m\u001b[1;33m\n",
       "\u001b[0m    \u001b[0mlongitude\u001b[0m\u001b[1;33m,\u001b[0m\u001b[1;33m\n",
       "\u001b[0m    \u001b[0moutputformat\u001b[0m\u001b[1;33m=\u001b[0m\u001b[1;34m'json'\u001b[0m\u001b[1;33m,\u001b[0m\u001b[1;33m\n",
       "\u001b[0m    \u001b[0musehorizon\u001b[0m\u001b[1;33m=\u001b[0m\u001b[1;32mTrue\u001b[0m\u001b[1;33m,\u001b[0m\u001b[1;33m\n",
       "\u001b[0m    \u001b[0muserhorizon\u001b[0m\u001b[1;33m=\u001b[0m\u001b[1;32mNone\u001b[0m\u001b[1;33m,\u001b[0m\u001b[1;33m\n",
       "\u001b[0m    \u001b[0mstartyear\u001b[0m\u001b[1;33m=\u001b[0m\u001b[1;32mNone\u001b[0m\u001b[1;33m,\u001b[0m\u001b[1;33m\n",
       "\u001b[0m    \u001b[0mendyear\u001b[0m\u001b[1;33m=\u001b[0m\u001b[1;32mNone\u001b[0m\u001b[1;33m,\u001b[0m\u001b[1;33m\n",
       "\u001b[0m    \u001b[0murl\u001b[0m\u001b[1;33m=\u001b[0m\u001b[1;34m'https://re.jrc.ec.europa.eu/api/'\u001b[0m\u001b[1;33m,\u001b[0m\u001b[1;33m\n",
       "\u001b[0m    \u001b[0mmap_variables\u001b[0m\u001b[1;33m=\u001b[0m\u001b[1;32mNone\u001b[0m\u001b[1;33m,\u001b[0m\u001b[1;33m\n",
       "\u001b[0m    \u001b[0mtimeout\u001b[0m\u001b[1;33m=\u001b[0m\u001b[1;36m30\u001b[0m\u001b[1;33m,\u001b[0m\u001b[1;33m\n",
       "\u001b[0m\u001b[1;33m)\u001b[0m\u001b[1;33m\u001b[0m\u001b[1;33m\u001b[0m\u001b[0m\n",
       "\u001b[1;31mDocstring:\u001b[0m\n",
       "Get TMY data from PVGIS. For more information see the PVGIS [1]_ TMY tool\n",
       "documentation [2]_.\n",
       "\n",
       "Parameters\n",
       "----------\n",
       "latitude : float\n",
       "    Latitude in degrees north\n",
       "longitude : float\n",
       "    Longitude in degrees east\n",
       "outputformat : str, default 'json'\n",
       "    Must be in ``['csv', 'basic', 'epw', 'json']``. See PVGIS TMY tool\n",
       "    documentation [2]_ for more info.\n",
       "usehorizon : bool, default True\n",
       "    include effects of horizon\n",
       "userhorizon : list of float, default None\n",
       "    optional user specified elevation of horizon in degrees, at equally\n",
       "    spaced azimuth clockwise from north, only valid if ``usehorizon`` is\n",
       "    true, if ``usehorizon`` is true but ``userhorizon`` is ``None`` then\n",
       "    PVGIS will calculate the horizon [3]_\n",
       "startyear : int, default None\n",
       "    first year to calculate TMY\n",
       "endyear : int, default None\n",
       "    last year to calculate TMY, must be at least 10 years from first year\n",
       "url : str, default: :const:`pvlib.iotools.pvgis.URL`\n",
       "    base url of PVGIS API, append ``tmy`` to get TMY endpoint\n",
       "map_variables: bool\n",
       "    When true, renames columns of the Dataframe to pvlib variable names\n",
       "    where applicable. See variable PVGIS_VARIABLE_MAP.\n",
       "timeout : int, default 30\n",
       "    time in seconds to wait for server response before timeout\n",
       "\n",
       "Returns\n",
       "-------\n",
       "data : pandas.DataFrame\n",
       "    the weather data\n",
       "months_selected : list\n",
       "    TMY year for each month, ``None`` for basic and EPW\n",
       "inputs : dict\n",
       "    the inputs, ``None`` for basic and EPW\n",
       "metadata : list or dict\n",
       "    file metadata, ``None`` for basic\n",
       "\n",
       "Note\n",
       "----\n",
       "The PVGIS website uses 10 years of data to generate the TMY, whereas the\n",
       "API accessed by this function defaults to using all available years. This\n",
       "means that the TMY returned by this function may not be identical to the\n",
       "one generated by the website. To replicate the website requests, specify\n",
       "the corresponding 10 year period using ``startyear`` and ``endyear``.\n",
       "Specifying ``endyear`` also avoids the TMY changing when new data becomes\n",
       "available.\n",
       "\n",
       "Raises\n",
       "------\n",
       "requests.HTTPError\n",
       "    if the request response status is ``HTTP/1.1 400 BAD REQUEST``, then\n",
       "    the error message in the response will be raised as an exception,\n",
       "    otherwise raise whatever ``HTTP/1.1`` error occurred\n",
       "\n",
       "See also\n",
       "--------\n",
       "read_pvgis_tmy\n",
       "\n",
       "References\n",
       "----------\n",
       "\n",
       ".. [1] `PVGIS <https://ec.europa.eu/jrc/en/pvgis>`_\n",
       ".. [2] `PVGIS TMY tool <https://ec.europa.eu/jrc/en/PVGIS/tools/tmy>`_\n",
       ".. [3] `PVGIS horizon profile tool\n",
       "   <https://ec.europa.eu/jrc/en/PVGIS/tools/horizon>`_\n",
       "\u001b[1;31mFile:\u001b[0m      c:\\users\\rb\\anaconda3\\envs\\pvlib\\lib\\site-packages\\pvlib\\iotools\\pvgis.py\n",
       "\u001b[1;31mType:\u001b[0m      function\n"
      ]
     },
     "metadata": {},
     "output_type": "display_data"
    }
   ],
   "source": [
    "# Inline help\n",
    "? pvlib.iotools.get_pvgis_tmy"
   ]
  },
  {
   "cell_type": "markdown",
   "metadata": {},
   "source": [
    "**Q 5.7:** Read the TMY data for the Green Fab Lab. Name the output variables according to the names of the output fields described in the above function help."
   ]
  },
  {
   "cell_type": "code",
   "execution_count": 14,
   "metadata": {
    "tags": []
   },
   "outputs": [],
   "source": [
    "# Code:\n",
    "# site = sites[...]\n",
    "# tmy_data, months_selected, ..., ... = pvlib.iotools.get_pvgis_tmy(..., ..., map_variables=True)"
   ]
  },
  {
   "cell_type": "markdown",
   "metadata": {},
   "source": [
    "**Q 5.8:** Which year provides the most typical or representative weather data for **April**? Hint: Use one of the return (output) variables of the function call above.  Attention: The selected months may vary from location to location! "
   ]
  },
  {
   "cell_type": "code",
   "execution_count": 16,
   "metadata": {},
   "outputs": [],
   "source": [
    "# Code:\n",
    "\n",
    "# check site\n",
    "# print(\"THE CURRENT SITE\")\n",
    "# print(\"----------------\")\n",
    "# print(site)\n",
    "\n",
    "# print(\"\\n\")\n",
    "\n",
    "# print(\"THE SELECTED MONTHS\")\n",
    "# print(\"-------------------\")\n",
    "\n",
    "# for ...:\n",
    "#     print(f'The most representative month {elt[\"month\"]:02d} is that of year {elt[...]}') "
   ]
  },
  {
   "cell_type": "markdown",
   "metadata": {},
   "source": [
    "**Answer:** ..."
   ]
  },
  {
   "cell_type": "code",
   "execution_count": null,
   "metadata": {},
   "outputs": [],
   "source": []
  },
  {
   "cell_type": "markdown",
   "metadata": {},
   "source": [
    "### Coerce Year in TMY Data\n",
    "\n",
    "Problem: The years of the representative months selected by the TMY are not necessarily ordered. It is recommended to create a \"dummy year\" to keep the index data type datetime64 with time zone UTC. Then the data from Jan to Dec will be in one year.\n",
    "\n",
    "This pandas time index is used for other purposes in the current analysis, too."
   ]
  },
  {
   "cell_type": "code",
   "execution_count": 17,
   "metadata": {
    "tags": []
   },
   "outputs": [],
   "source": [
    "times = pd.date_range('2019-01-01 00:00:00', '2020-01-01', inclusive='left', freq='H', tz=tz)"
   ]
  },
  {
   "cell_type": "code",
   "execution_count": 18,
   "metadata": {},
   "outputs": [],
   "source": [
    "tmy_data.index = times"
   ]
  },
  {
   "cell_type": "code",
   "execution_count": 19,
   "metadata": {},
   "outputs": [
    {
     "data": {
      "text/html": [
       "<div>\n",
       "<style scoped>\n",
       "    .dataframe tbody tr th:only-of-type {\n",
       "        vertical-align: middle;\n",
       "    }\n",
       "\n",
       "    .dataframe tbody tr th {\n",
       "        vertical-align: top;\n",
       "    }\n",
       "\n",
       "    .dataframe thead th {\n",
       "        text-align: right;\n",
       "    }\n",
       "</style>\n",
       "<table border=\"1\" class=\"dataframe\">\n",
       "  <thead>\n",
       "    <tr style=\"text-align: right;\">\n",
       "      <th></th>\n",
       "      <th>temp_air</th>\n",
       "      <th>relative_humidity</th>\n",
       "      <th>ghi</th>\n",
       "      <th>dni</th>\n",
       "      <th>dhi</th>\n",
       "      <th>IR(h)</th>\n",
       "      <th>wind_speed</th>\n",
       "      <th>wind_direction</th>\n",
       "      <th>pressure</th>\n",
       "    </tr>\n",
       "  </thead>\n",
       "  <tbody>\n",
       "    <tr>\n",
       "      <th>2019-01-01 00:00:00+01:00</th>\n",
       "      <td>5.41</td>\n",
       "      <td>85.23</td>\n",
       "      <td>0.0</td>\n",
       "      <td>0.0</td>\n",
       "      <td>0.0</td>\n",
       "      <td>286.26</td>\n",
       "      <td>4.25</td>\n",
       "      <td>200.0</td>\n",
       "      <td>100594.0</td>\n",
       "    </tr>\n",
       "    <tr>\n",
       "      <th>2019-01-01 01:00:00+01:00</th>\n",
       "      <td>5.41</td>\n",
       "      <td>86.11</td>\n",
       "      <td>0.0</td>\n",
       "      <td>0.0</td>\n",
       "      <td>0.0</td>\n",
       "      <td>292.54</td>\n",
       "      <td>4.36</td>\n",
       "      <td>206.0</td>\n",
       "      <td>100601.0</td>\n",
       "    </tr>\n",
       "    <tr>\n",
       "      <th>2019-01-01 02:00:00+01:00</th>\n",
       "      <td>5.40</td>\n",
       "      <td>86.98</td>\n",
       "      <td>0.0</td>\n",
       "      <td>0.0</td>\n",
       "      <td>0.0</td>\n",
       "      <td>298.82</td>\n",
       "      <td>4.47</td>\n",
       "      <td>211.0</td>\n",
       "      <td>100607.0</td>\n",
       "    </tr>\n",
       "    <tr>\n",
       "      <th>2019-01-01 03:00:00+01:00</th>\n",
       "      <td>5.40</td>\n",
       "      <td>87.86</td>\n",
       "      <td>0.0</td>\n",
       "      <td>0.0</td>\n",
       "      <td>0.0</td>\n",
       "      <td>305.10</td>\n",
       "      <td>4.58</td>\n",
       "      <td>211.0</td>\n",
       "      <td>100617.0</td>\n",
       "    </tr>\n",
       "    <tr>\n",
       "      <th>2019-01-01 04:00:00+01:00</th>\n",
       "      <td>5.39</td>\n",
       "      <td>88.74</td>\n",
       "      <td>0.0</td>\n",
       "      <td>0.0</td>\n",
       "      <td>0.0</td>\n",
       "      <td>311.38</td>\n",
       "      <td>4.69</td>\n",
       "      <td>211.0</td>\n",
       "      <td>100627.0</td>\n",
       "    </tr>\n",
       "  </tbody>\n",
       "</table>\n",
       "</div>"
      ],
      "text/plain": [
       "                           temp_air  relative_humidity  ghi  dni  dhi   IR(h)  \\\n",
       "2019-01-01 00:00:00+01:00      5.41              85.23  0.0  0.0  0.0  286.26   \n",
       "2019-01-01 01:00:00+01:00      5.41              86.11  0.0  0.0  0.0  292.54   \n",
       "2019-01-01 02:00:00+01:00      5.40              86.98  0.0  0.0  0.0  298.82   \n",
       "2019-01-01 03:00:00+01:00      5.40              87.86  0.0  0.0  0.0  305.10   \n",
       "2019-01-01 04:00:00+01:00      5.39              88.74  0.0  0.0  0.0  311.38   \n",
       "\n",
       "                           wind_speed  wind_direction  pressure  \n",
       "2019-01-01 00:00:00+01:00        4.25           200.0  100594.0  \n",
       "2019-01-01 01:00:00+01:00        4.36           206.0  100601.0  \n",
       "2019-01-01 02:00:00+01:00        4.47           211.0  100607.0  \n",
       "2019-01-01 03:00:00+01:00        4.58           211.0  100617.0  \n",
       "2019-01-01 04:00:00+01:00        4.69           211.0  100627.0  "
      ]
     },
     "execution_count": 19,
     "metadata": {},
     "output_type": "execute_result"
    }
   ],
   "source": [
    "tmy_data.head()"
   ]
  },
  {
   "cell_type": "code",
   "execution_count": 20,
   "metadata": {},
   "outputs": [
    {
     "data": {
      "text/html": [
       "<div>\n",
       "<style scoped>\n",
       "    .dataframe tbody tr th:only-of-type {\n",
       "        vertical-align: middle;\n",
       "    }\n",
       "\n",
       "    .dataframe tbody tr th {\n",
       "        vertical-align: top;\n",
       "    }\n",
       "\n",
       "    .dataframe thead th {\n",
       "        text-align: right;\n",
       "    }\n",
       "</style>\n",
       "<table border=\"1\" class=\"dataframe\">\n",
       "  <thead>\n",
       "    <tr style=\"text-align: right;\">\n",
       "      <th></th>\n",
       "      <th>temp_air</th>\n",
       "      <th>relative_humidity</th>\n",
       "      <th>ghi</th>\n",
       "      <th>dni</th>\n",
       "      <th>dhi</th>\n",
       "      <th>IR(h)</th>\n",
       "      <th>wind_speed</th>\n",
       "      <th>wind_direction</th>\n",
       "      <th>pressure</th>\n",
       "    </tr>\n",
       "  </thead>\n",
       "  <tbody>\n",
       "    <tr>\n",
       "      <th>2019-12-31 19:00:00+01:00</th>\n",
       "      <td>5.44</td>\n",
       "      <td>80.85</td>\n",
       "      <td>0.0</td>\n",
       "      <td>0.0</td>\n",
       "      <td>0.0</td>\n",
       "      <td>254.85</td>\n",
       "      <td>3.69</td>\n",
       "      <td>196.0</td>\n",
       "      <td>101963.0</td>\n",
       "    </tr>\n",
       "    <tr>\n",
       "      <th>2019-12-31 20:00:00+01:00</th>\n",
       "      <td>5.43</td>\n",
       "      <td>81.73</td>\n",
       "      <td>0.0</td>\n",
       "      <td>0.0</td>\n",
       "      <td>0.0</td>\n",
       "      <td>261.13</td>\n",
       "      <td>3.80</td>\n",
       "      <td>192.0</td>\n",
       "      <td>101973.0</td>\n",
       "    </tr>\n",
       "    <tr>\n",
       "      <th>2019-12-31 21:00:00+01:00</th>\n",
       "      <td>5.43</td>\n",
       "      <td>82.60</td>\n",
       "      <td>0.0</td>\n",
       "      <td>0.0</td>\n",
       "      <td>0.0</td>\n",
       "      <td>267.41</td>\n",
       "      <td>3.92</td>\n",
       "      <td>194.0</td>\n",
       "      <td>101986.0</td>\n",
       "    </tr>\n",
       "    <tr>\n",
       "      <th>2019-12-31 22:00:00+01:00</th>\n",
       "      <td>5.42</td>\n",
       "      <td>83.48</td>\n",
       "      <td>0.0</td>\n",
       "      <td>0.0</td>\n",
       "      <td>0.0</td>\n",
       "      <td>273.69</td>\n",
       "      <td>4.03</td>\n",
       "      <td>196.0</td>\n",
       "      <td>102000.0</td>\n",
       "    </tr>\n",
       "    <tr>\n",
       "      <th>2019-12-31 23:00:00+01:00</th>\n",
       "      <td>5.42</td>\n",
       "      <td>84.36</td>\n",
       "      <td>0.0</td>\n",
       "      <td>0.0</td>\n",
       "      <td>0.0</td>\n",
       "      <td>279.98</td>\n",
       "      <td>4.14</td>\n",
       "      <td>197.0</td>\n",
       "      <td>102013.0</td>\n",
       "    </tr>\n",
       "  </tbody>\n",
       "</table>\n",
       "</div>"
      ],
      "text/plain": [
       "                           temp_air  relative_humidity  ghi  dni  dhi   IR(h)  \\\n",
       "2019-12-31 19:00:00+01:00      5.44              80.85  0.0  0.0  0.0  254.85   \n",
       "2019-12-31 20:00:00+01:00      5.43              81.73  0.0  0.0  0.0  261.13   \n",
       "2019-12-31 21:00:00+01:00      5.43              82.60  0.0  0.0  0.0  267.41   \n",
       "2019-12-31 22:00:00+01:00      5.42              83.48  0.0  0.0  0.0  273.69   \n",
       "2019-12-31 23:00:00+01:00      5.42              84.36  0.0  0.0  0.0  279.98   \n",
       "\n",
       "                           wind_speed  wind_direction  pressure  \n",
       "2019-12-31 19:00:00+01:00        3.69           196.0  101963.0  \n",
       "2019-12-31 20:00:00+01:00        3.80           192.0  101973.0  \n",
       "2019-12-31 21:00:00+01:00        3.92           194.0  101986.0  \n",
       "2019-12-31 22:00:00+01:00        4.03           196.0  102000.0  \n",
       "2019-12-31 23:00:00+01:00        4.14           197.0  102013.0  "
      ]
     },
     "execution_count": 20,
     "metadata": {},
     "output_type": "execute_result"
    }
   ],
   "source": [
    "tmy_data.tail()"
   ]
  },
  {
   "cell_type": "code",
   "execution_count": 21,
   "metadata": {},
   "outputs": [
    {
     "data": {
      "text/plain": [
       "DatetimeIndex(['2019-01-01 00:00:00+01:00', '2019-01-01 01:00:00+01:00',\n",
       "               '2019-01-01 02:00:00+01:00', '2019-01-01 03:00:00+01:00',\n",
       "               '2019-01-01 04:00:00+01:00', '2019-01-01 05:00:00+01:00',\n",
       "               '2019-01-01 06:00:00+01:00', '2019-01-01 07:00:00+01:00',\n",
       "               '2019-01-01 08:00:00+01:00', '2019-01-01 09:00:00+01:00',\n",
       "               ...\n",
       "               '2019-12-31 14:00:00+01:00', '2019-12-31 15:00:00+01:00',\n",
       "               '2019-12-31 16:00:00+01:00', '2019-12-31 17:00:00+01:00',\n",
       "               '2019-12-31 18:00:00+01:00', '2019-12-31 19:00:00+01:00',\n",
       "               '2019-12-31 20:00:00+01:00', '2019-12-31 21:00:00+01:00',\n",
       "               '2019-12-31 22:00:00+01:00', '2019-12-31 23:00:00+01:00'],\n",
       "              dtype='datetime64[ns, Europe/Berlin]', length=8760, freq='H')"
      ]
     },
     "execution_count": 21,
     "metadata": {},
     "output_type": "execute_result"
    }
   ],
   "source": [
    "tmy_data.index"
   ]
  },
  {
   "cell_type": "markdown",
   "metadata": {},
   "source": [
    "## 6. Compare Plane-of-Array Irradiance (POA) Based on Clear Sky (CS) and Typical Meteorological Year (TMY)\n",
    "\n",
    "Finally the Plane-of-Array (POA) Irradiance matters. It is the total irradiance at the surface of the PV modules. This radiant flux (aka radiant power density) is collected over the area of the PV modules. The energy collected over a longer time period is called insolation, e.g. how many Joules or Watt-hours of energy are produced in a year.\n",
    "\n",
    "The POA irradiance (aka POA) is a result of many irradiance components, such as direct, diffuse or even ground reflected irradiance. Often shading by the horizon profile (e.g. buildings or trees) or by other module rows has sometimes to be taken into account to get more realistic irrandiance components.\n",
    "\n",
    "The main function is `pvlib.irradiance.get_total_irradiance()`. Read the signature from the online help below: `? pvlib.irradiance.get_total_irradiance`\n",
    "\n",
    "* The variables starting with `surface_...` are related to the **module orientation.**\n",
    "* The input parameters `solar_zenith` and `solar_azimuth` come from the **solar position.**\n",
    "* `dni`, `ghi`and `dhi` are irradiance components provided by an external irradiance model (e.g. clear sky) or measurment based data (e.g. TMY). "
   ]
  },
  {
   "cell_type": "code",
   "execution_count": 22,
   "metadata": {},
   "outputs": [
    {
     "data": {
      "text/plain": [
       "\u001b[1;31mSignature:\u001b[0m\n",
       " \u001b[0mpvlib\u001b[0m\u001b[1;33m.\u001b[0m\u001b[0mirradiance\u001b[0m\u001b[1;33m.\u001b[0m\u001b[0mget_total_irradiance\u001b[0m\u001b[1;33m(\u001b[0m\u001b[1;33m\n",
       "\u001b[0m    \u001b[0msurface_tilt\u001b[0m\u001b[1;33m,\u001b[0m\u001b[1;33m\n",
       "\u001b[0m    \u001b[0msurface_azimuth\u001b[0m\u001b[1;33m,\u001b[0m\u001b[1;33m\n",
       "\u001b[0m    \u001b[0msolar_zenith\u001b[0m\u001b[1;33m,\u001b[0m\u001b[1;33m\n",
       "\u001b[0m    \u001b[0msolar_azimuth\u001b[0m\u001b[1;33m,\u001b[0m\u001b[1;33m\n",
       "\u001b[0m    \u001b[0mdni\u001b[0m\u001b[1;33m,\u001b[0m\u001b[1;33m\n",
       "\u001b[0m    \u001b[0mghi\u001b[0m\u001b[1;33m,\u001b[0m\u001b[1;33m\n",
       "\u001b[0m    \u001b[0mdhi\u001b[0m\u001b[1;33m,\u001b[0m\u001b[1;33m\n",
       "\u001b[0m    \u001b[0mdni_extra\u001b[0m\u001b[1;33m=\u001b[0m\u001b[1;32mNone\u001b[0m\u001b[1;33m,\u001b[0m\u001b[1;33m\n",
       "\u001b[0m    \u001b[0mairmass\u001b[0m\u001b[1;33m=\u001b[0m\u001b[1;32mNone\u001b[0m\u001b[1;33m,\u001b[0m\u001b[1;33m\n",
       "\u001b[0m    \u001b[0malbedo\u001b[0m\u001b[1;33m=\u001b[0m\u001b[1;36m0.25\u001b[0m\u001b[1;33m,\u001b[0m\u001b[1;33m\n",
       "\u001b[0m    \u001b[0msurface_type\u001b[0m\u001b[1;33m=\u001b[0m\u001b[1;32mNone\u001b[0m\u001b[1;33m,\u001b[0m\u001b[1;33m\n",
       "\u001b[0m    \u001b[0mmodel\u001b[0m\u001b[1;33m=\u001b[0m\u001b[1;34m'isotropic'\u001b[0m\u001b[1;33m,\u001b[0m\u001b[1;33m\n",
       "\u001b[0m    \u001b[0mmodel_perez\u001b[0m\u001b[1;33m=\u001b[0m\u001b[1;34m'allsitescomposite1990'\u001b[0m\u001b[1;33m,\u001b[0m\u001b[1;33m\n",
       "\u001b[0m    \u001b[1;33m**\u001b[0m\u001b[0mkwargs\u001b[0m\u001b[1;33m,\u001b[0m\u001b[1;33m\n",
       "\u001b[0m\u001b[1;33m)\u001b[0m\u001b[1;33m\u001b[0m\u001b[1;33m\u001b[0m\u001b[0m\n",
       "\u001b[1;31mDocstring:\u001b[0m\n",
       "Determine total in-plane irradiance and its beam, sky diffuse and ground\n",
       "reflected components, using the specified sky diffuse irradiance model.\n",
       "\n",
       ".. math::\n",
       "\n",
       "   I_{tot} = I_{beam} + I_{sky diffuse} + I_{ground}\n",
       "\n",
       "Sky diffuse models include:\n",
       "    * isotropic (default)\n",
       "    * klucher\n",
       "    * haydavies\n",
       "    * reindl\n",
       "    * king\n",
       "    * perez\n",
       "\n",
       "Parameters\n",
       "----------\n",
       "surface_tilt : numeric\n",
       "    Panel tilt from horizontal. [degree]\n",
       "surface_azimuth : numeric\n",
       "    Panel azimuth from north. [degree]\n",
       "solar_zenith : numeric\n",
       "    Solar zenith angle. [degree]\n",
       "solar_azimuth : numeric\n",
       "    Solar azimuth angle. [degree]\n",
       "dni : numeric\n",
       "    Direct Normal Irradiance. [W/m2]\n",
       "ghi : numeric\n",
       "    Global horizontal irradiance. [W/m2]\n",
       "dhi : numeric\n",
       "    Diffuse horizontal irradiance. [W/m2]\n",
       "dni_extra : None or numeric, default None\n",
       "    Extraterrestrial direct normal irradiance. [W/m2]\n",
       "airmass : None or numeric, default None\n",
       "    Relative airmass (not adjusted for pressure). [unitless]\n",
       "albedo : numeric, default 0.25\n",
       "    Surface albedo. [unitless]\n",
       "surface_type : None or str, default None\n",
       "    Surface type. See :py:func:`~pvlib.irradiance.get_ground_diffuse` for\n",
       "    the list of accepted values.\n",
       "model : str, default 'isotropic'\n",
       "    Irradiance model. Can be one of ``'isotropic'``, ``'klucher'``,\n",
       "    ``'haydavies'``, ``'reindl'``, ``'king'``, ``'perez'``.\n",
       "model_perez : str, default 'allsitescomposite1990'\n",
       "    Used only if ``model='perez'``. See :py:func:`~pvlib.irradiance.perez`.\n",
       "\n",
       "Returns\n",
       "-------\n",
       "total_irrad : OrderedDict or DataFrame\n",
       "    Contains keys/columns ``'poa_global', 'poa_direct', 'poa_diffuse',\n",
       "    'poa_sky_diffuse', 'poa_ground_diffuse'``.\n",
       "\n",
       "Notes\n",
       "-----\n",
       "Models ``'haydavies'``, ``'reindl'``, or ``'perez'`` require\n",
       "``'dni_extra'``. Values can be calculated using\n",
       ":py:func:`~pvlib.irradiance.get_extra_radiation`.\n",
       "\n",
       "The ``'perez'`` model requires relative airmass (``airmass``) as input. If\n",
       "``airmass`` is not provided, it is calculated using the defaults in\n",
       ":py:func:`~pvlib.atmosphere.get_relative_airmass`.\n",
       "\u001b[1;31mFile:\u001b[0m      c:\\users\\rb\\anaconda3\\envs\\pvlib\\lib\\site-packages\\pvlib\\irradiance.py\n",
       "\u001b[1;31mType:\u001b[0m      function\n"
      ]
     },
     "metadata": {},
     "output_type": "display_data"
    }
   ],
   "source": [
    "? pvlib.irradiance.get_total_irradiance"
   ]
  },
  {
   "cell_type": "markdown",
   "metadata": {},
   "source": [
    "### Solar Position\n",
    "\n",
    "The function signature above shows that `solar_zenith` and `solar_azimuth` are input parameters. They come from the solar position."
   ]
  },
  {
   "cell_type": "code",
   "execution_count": 23,
   "metadata": {},
   "outputs": [],
   "source": [
    "# Code and comments are from here: \n",
    "# https://pvlib-python.readthedocs.io/en/stable/gallery/irradiance-transposition/plot_transposition_gain.html\n",
    "#\n",
    "# calculate the necessary variables to do transposition.  Note that solar\n",
    "# position doesn't depend on array orientation, so we just calculate it once.\n",
    "# Note also that TMY datasets are right-labeled hourly intervals, e.g. the\n",
    "# 10AM to 11AM interval is labeled 11.  We should calculate solar position in\n",
    "# the middle of the interval (10:30), so we subtract 30 minutes:\n",
    "times_solpos = tmy_data.index - pd.Timedelta('30min') # use the times from the TMY and subtract 30 mins.\n",
    "solar_position = site.get_solarposition(times=times_solpos)\n",
    "# but remember to shift the index back to line up with the TMY data:\n",
    "solar_position.index += pd.Timedelta('30min')"
   ]
  },
  {
   "cell_type": "code",
   "execution_count": 24,
   "metadata": {},
   "outputs": [
    {
     "data": {
      "text/html": [
       "<div>\n",
       "<style scoped>\n",
       "    .dataframe tbody tr th:only-of-type {\n",
       "        vertical-align: middle;\n",
       "    }\n",
       "\n",
       "    .dataframe tbody tr th {\n",
       "        vertical-align: top;\n",
       "    }\n",
       "\n",
       "    .dataframe thead th {\n",
       "        text-align: right;\n",
       "    }\n",
       "</style>\n",
       "<table border=\"1\" class=\"dataframe\">\n",
       "  <thead>\n",
       "    <tr style=\"text-align: right;\">\n",
       "      <th></th>\n",
       "      <th>apparent_zenith</th>\n",
       "      <th>zenith</th>\n",
       "      <th>apparent_elevation</th>\n",
       "      <th>elevation</th>\n",
       "      <th>azimuth</th>\n",
       "      <th>equation_of_time</th>\n",
       "    </tr>\n",
       "  </thead>\n",
       "  <tbody>\n",
       "    <tr>\n",
       "      <th>2019-01-01 00:00:00+01:00</th>\n",
       "      <td>148.751259</td>\n",
       "      <td>148.751259</td>\n",
       "      <td>-58.751259</td>\n",
       "      <td>-58.751259</td>\n",
       "      <td>329.268951</td>\n",
       "      <td>-3.166140</td>\n",
       "    </tr>\n",
       "    <tr>\n",
       "      <th>2019-01-01 01:00:00+01:00</th>\n",
       "      <td>151.511704</td>\n",
       "      <td>151.511704</td>\n",
       "      <td>-61.511704</td>\n",
       "      <td>-61.511704</td>\n",
       "      <td>356.625679</td>\n",
       "      <td>-3.185965</td>\n",
       "    </tr>\n",
       "    <tr>\n",
       "      <th>2019-01-01 02:00:00+01:00</th>\n",
       "      <td>149.758684</td>\n",
       "      <td>149.758684</td>\n",
       "      <td>-59.758684</td>\n",
       "      <td>-59.758684</td>\n",
       "      <td>24.750929</td>\n",
       "      <td>-3.205782</td>\n",
       "    </tr>\n",
       "    <tr>\n",
       "      <th>2019-01-01 03:00:00+01:00</th>\n",
       "      <td>144.187094</td>\n",
       "      <td>144.187094</td>\n",
       "      <td>-54.187094</td>\n",
       "      <td>-54.187094</td>\n",
       "      <td>48.088943</td>\n",
       "      <td>-3.225590</td>\n",
       "    </tr>\n",
       "    <tr>\n",
       "      <th>2019-01-01 04:00:00+01:00</th>\n",
       "      <td>136.350694</td>\n",
       "      <td>136.350694</td>\n",
       "      <td>-46.350694</td>\n",
       "      <td>-46.350694</td>\n",
       "      <td>65.965056</td>\n",
       "      <td>-3.245391</td>\n",
       "    </tr>\n",
       "    <tr>\n",
       "      <th>...</th>\n",
       "      <td>...</td>\n",
       "      <td>...</td>\n",
       "      <td>...</td>\n",
       "      <td>...</td>\n",
       "      <td>...</td>\n",
       "      <td>...</td>\n",
       "    </tr>\n",
       "    <tr>\n",
       "      <th>2019-12-31 19:00:00+01:00</th>\n",
       "      <td>106.853597</td>\n",
       "      <td>106.853597</td>\n",
       "      <td>-16.853597</td>\n",
       "      <td>-16.853597</td>\n",
       "      <td>253.908481</td>\n",
       "      <td>-2.952394</td>\n",
       "    </tr>\n",
       "    <tr>\n",
       "      <th>2019-12-31 20:00:00+01:00</th>\n",
       "      <td>116.013238</td>\n",
       "      <td>116.013238</td>\n",
       "      <td>-26.013238</td>\n",
       "      <td>-26.013238</td>\n",
       "      <td>265.000659</td>\n",
       "      <td>-2.972316</td>\n",
       "    </tr>\n",
       "    <tr>\n",
       "      <th>2019-12-31 21:00:00+01:00</th>\n",
       "      <td>125.328189</td>\n",
       "      <td>125.328189</td>\n",
       "      <td>-35.328189</td>\n",
       "      <td>-35.328189</td>\n",
       "      <td>276.853599</td>\n",
       "      <td>-2.992228</td>\n",
       "    </tr>\n",
       "    <tr>\n",
       "      <th>2019-12-31 22:00:00+01:00</th>\n",
       "      <td>134.383100</td>\n",
       "      <td>134.383100</td>\n",
       "      <td>-44.383100</td>\n",
       "      <td>-44.383100</td>\n",
       "      <td>290.457774</td>\n",
       "      <td>-3.012131</td>\n",
       "    </tr>\n",
       "    <tr>\n",
       "      <th>2019-12-31 23:00:00+01:00</th>\n",
       "      <td>142.551719</td>\n",
       "      <td>142.551719</td>\n",
       "      <td>-52.551719</td>\n",
       "      <td>-52.551719</td>\n",
       "      <td>307.316515</td>\n",
       "      <td>-3.032026</td>\n",
       "    </tr>\n",
       "  </tbody>\n",
       "</table>\n",
       "<p>8760 rows × 6 columns</p>\n",
       "</div>"
      ],
      "text/plain": [
       "                           apparent_zenith      zenith  apparent_elevation  \\\n",
       "2019-01-01 00:00:00+01:00       148.751259  148.751259          -58.751259   \n",
       "2019-01-01 01:00:00+01:00       151.511704  151.511704          -61.511704   \n",
       "2019-01-01 02:00:00+01:00       149.758684  149.758684          -59.758684   \n",
       "2019-01-01 03:00:00+01:00       144.187094  144.187094          -54.187094   \n",
       "2019-01-01 04:00:00+01:00       136.350694  136.350694          -46.350694   \n",
       "...                                    ...         ...                 ...   \n",
       "2019-12-31 19:00:00+01:00       106.853597  106.853597          -16.853597   \n",
       "2019-12-31 20:00:00+01:00       116.013238  116.013238          -26.013238   \n",
       "2019-12-31 21:00:00+01:00       125.328189  125.328189          -35.328189   \n",
       "2019-12-31 22:00:00+01:00       134.383100  134.383100          -44.383100   \n",
       "2019-12-31 23:00:00+01:00       142.551719  142.551719          -52.551719   \n",
       "\n",
       "                           elevation     azimuth  equation_of_time  \n",
       "2019-01-01 00:00:00+01:00 -58.751259  329.268951         -3.166140  \n",
       "2019-01-01 01:00:00+01:00 -61.511704  356.625679         -3.185965  \n",
       "2019-01-01 02:00:00+01:00 -59.758684   24.750929         -3.205782  \n",
       "2019-01-01 03:00:00+01:00 -54.187094   48.088943         -3.225590  \n",
       "2019-01-01 04:00:00+01:00 -46.350694   65.965056         -3.245391  \n",
       "...                              ...         ...               ...  \n",
       "2019-12-31 19:00:00+01:00 -16.853597  253.908481         -2.952394  \n",
       "2019-12-31 20:00:00+01:00 -26.013238  265.000659         -2.972316  \n",
       "2019-12-31 21:00:00+01:00 -35.328189  276.853599         -2.992228  \n",
       "2019-12-31 22:00:00+01:00 -44.383100  290.457774         -3.012131  \n",
       "2019-12-31 23:00:00+01:00 -52.551719  307.316515         -3.032026  \n",
       "\n",
       "[8760 rows x 6 columns]"
      ]
     },
     "execution_count": 24,
     "metadata": {},
     "output_type": "execute_result"
    }
   ],
   "source": [
    "solar_position"
   ]
  },
  {
   "cell_type": "markdown",
   "metadata": {},
   "source": [
    "### POA Irradiance from TMY"
   ]
  },
  {
   "cell_type": "markdown",
   "metadata": {},
   "source": [
    "The function [**pvlib.irradiance.get_total_irradiance()**](https://pvlib-python.readthedocs.io/en/stable/reference/generated/pvlib.irradiance.get_total_irradiance.html) does the main job to get the irradiance at the surface of the PV array, i.e. on the POA. The series (column) `poa_global`is the total in-plane irradiance.\n",
    "<br>**Notice: You used the function before but now we are using real meteorologial TMY data instead of clear sky!**"
   ]
  },
  {
   "cell_type": "code",
   "execution_count": 25,
   "metadata": {
    "tags": []
   },
   "outputs": [],
   "source": [
    "# ? pvlib.irradiance.get_total_irradiance"
   ]
  },
  {
   "cell_type": "code",
   "execution_count": 26,
   "metadata": {},
   "outputs": [],
   "source": [
    "surface_azimuth = 225\n",
    "surface_tilt = 30"
   ]
  },
  {
   "cell_type": "code",
   "execution_count": 27,
   "metadata": {},
   "outputs": [],
   "source": [
    "poa_tmy_irradiance = pvlib.irradiance.get_total_irradiance(\n",
    "    surface_tilt=surface_tilt,\n",
    "    surface_azimuth=surface_azimuth,\n",
    "    dni=tmy_data['dni'],\n",
    "    ghi=tmy_data['ghi'],\n",
    "    dhi=tmy_data['dhi'],\n",
    "    solar_zenith=solar_position['apparent_zenith'],\n",
    "    solar_azimuth=solar_position['azimuth'],\n",
    "    model='isotropic')\n"
   ]
  },
  {
   "cell_type": "code",
   "execution_count": 28,
   "metadata": {},
   "outputs": [
    {
     "data": {
      "text/html": [
       "<div>\n",
       "<style scoped>\n",
       "    .dataframe tbody tr th:only-of-type {\n",
       "        vertical-align: middle;\n",
       "    }\n",
       "\n",
       "    .dataframe tbody tr th {\n",
       "        vertical-align: top;\n",
       "    }\n",
       "\n",
       "    .dataframe thead th {\n",
       "        text-align: right;\n",
       "    }\n",
       "</style>\n",
       "<table border=\"1\" class=\"dataframe\">\n",
       "  <thead>\n",
       "    <tr style=\"text-align: right;\">\n",
       "      <th></th>\n",
       "      <th>poa_global</th>\n",
       "      <th>poa_direct</th>\n",
       "      <th>poa_diffuse</th>\n",
       "      <th>poa_sky_diffuse</th>\n",
       "      <th>poa_ground_diffuse</th>\n",
       "    </tr>\n",
       "  </thead>\n",
       "  <tbody>\n",
       "    <tr>\n",
       "      <th>2019-01-01 00:00:00+01:00</th>\n",
       "      <td>0.0</td>\n",
       "      <td>-0.0</td>\n",
       "      <td>0.0</td>\n",
       "      <td>0.0</td>\n",
       "      <td>0.0</td>\n",
       "    </tr>\n",
       "    <tr>\n",
       "      <th>2019-01-01 01:00:00+01:00</th>\n",
       "      <td>0.0</td>\n",
       "      <td>-0.0</td>\n",
       "      <td>0.0</td>\n",
       "      <td>0.0</td>\n",
       "      <td>0.0</td>\n",
       "    </tr>\n",
       "    <tr>\n",
       "      <th>2019-01-01 02:00:00+01:00</th>\n",
       "      <td>0.0</td>\n",
       "      <td>-0.0</td>\n",
       "      <td>0.0</td>\n",
       "      <td>0.0</td>\n",
       "      <td>0.0</td>\n",
       "    </tr>\n",
       "    <tr>\n",
       "      <th>2019-01-01 03:00:00+01:00</th>\n",
       "      <td>0.0</td>\n",
       "      <td>-0.0</td>\n",
       "      <td>0.0</td>\n",
       "      <td>0.0</td>\n",
       "      <td>0.0</td>\n",
       "    </tr>\n",
       "    <tr>\n",
       "      <th>2019-01-01 04:00:00+01:00</th>\n",
       "      <td>0.0</td>\n",
       "      <td>-0.0</td>\n",
       "      <td>0.0</td>\n",
       "      <td>0.0</td>\n",
       "      <td>0.0</td>\n",
       "    </tr>\n",
       "    <tr>\n",
       "      <th>...</th>\n",
       "      <td>...</td>\n",
       "      <td>...</td>\n",
       "      <td>...</td>\n",
       "      <td>...</td>\n",
       "      <td>...</td>\n",
       "    </tr>\n",
       "    <tr>\n",
       "      <th>2019-12-31 19:00:00+01:00</th>\n",
       "      <td>0.0</td>\n",
       "      <td>0.0</td>\n",
       "      <td>0.0</td>\n",
       "      <td>0.0</td>\n",
       "      <td>0.0</td>\n",
       "    </tr>\n",
       "    <tr>\n",
       "      <th>2019-12-31 20:00:00+01:00</th>\n",
       "      <td>0.0</td>\n",
       "      <td>-0.0</td>\n",
       "      <td>0.0</td>\n",
       "      <td>0.0</td>\n",
       "      <td>0.0</td>\n",
       "    </tr>\n",
       "    <tr>\n",
       "      <th>2019-12-31 21:00:00+01:00</th>\n",
       "      <td>0.0</td>\n",
       "      <td>-0.0</td>\n",
       "      <td>0.0</td>\n",
       "      <td>0.0</td>\n",
       "      <td>0.0</td>\n",
       "    </tr>\n",
       "    <tr>\n",
       "      <th>2019-12-31 22:00:00+01:00</th>\n",
       "      <td>0.0</td>\n",
       "      <td>-0.0</td>\n",
       "      <td>0.0</td>\n",
       "      <td>0.0</td>\n",
       "      <td>0.0</td>\n",
       "    </tr>\n",
       "    <tr>\n",
       "      <th>2019-12-31 23:00:00+01:00</th>\n",
       "      <td>0.0</td>\n",
       "      <td>-0.0</td>\n",
       "      <td>0.0</td>\n",
       "      <td>0.0</td>\n",
       "      <td>0.0</td>\n",
       "    </tr>\n",
       "  </tbody>\n",
       "</table>\n",
       "<p>8760 rows × 5 columns</p>\n",
       "</div>"
      ],
      "text/plain": [
       "                           poa_global  poa_direct  poa_diffuse  \\\n",
       "2019-01-01 00:00:00+01:00         0.0        -0.0          0.0   \n",
       "2019-01-01 01:00:00+01:00         0.0        -0.0          0.0   \n",
       "2019-01-01 02:00:00+01:00         0.0        -0.0          0.0   \n",
       "2019-01-01 03:00:00+01:00         0.0        -0.0          0.0   \n",
       "2019-01-01 04:00:00+01:00         0.0        -0.0          0.0   \n",
       "...                               ...         ...          ...   \n",
       "2019-12-31 19:00:00+01:00         0.0         0.0          0.0   \n",
       "2019-12-31 20:00:00+01:00         0.0        -0.0          0.0   \n",
       "2019-12-31 21:00:00+01:00         0.0        -0.0          0.0   \n",
       "2019-12-31 22:00:00+01:00         0.0        -0.0          0.0   \n",
       "2019-12-31 23:00:00+01:00         0.0        -0.0          0.0   \n",
       "\n",
       "                           poa_sky_diffuse  poa_ground_diffuse  \n",
       "2019-01-01 00:00:00+01:00              0.0                 0.0  \n",
       "2019-01-01 01:00:00+01:00              0.0                 0.0  \n",
       "2019-01-01 02:00:00+01:00              0.0                 0.0  \n",
       "2019-01-01 03:00:00+01:00              0.0                 0.0  \n",
       "2019-01-01 04:00:00+01:00              0.0                 0.0  \n",
       "...                                    ...                 ...  \n",
       "2019-12-31 19:00:00+01:00              0.0                 0.0  \n",
       "2019-12-31 20:00:00+01:00              0.0                 0.0  \n",
       "2019-12-31 21:00:00+01:00              0.0                 0.0  \n",
       "2019-12-31 22:00:00+01:00              0.0                 0.0  \n",
       "2019-12-31 23:00:00+01:00              0.0                 0.0  \n",
       "\n",
       "[8760 rows x 5 columns]"
      ]
     },
     "execution_count": 28,
     "metadata": {},
     "output_type": "execute_result"
    }
   ],
   "source": [
    "poa_tmy_irradiance"
   ]
  },
  {
   "cell_type": "markdown",
   "metadata": {},
   "source": [
    "### POA Irradiance from CS"
   ]
  },
  {
   "cell_type": "code",
   "execution_count": 29,
   "metadata": {},
   "outputs": [],
   "source": [
    "clearsky = site.get_clearsky(times)"
   ]
  },
  {
   "cell_type": "code",
   "execution_count": 30,
   "metadata": {},
   "outputs": [
    {
     "data": {
      "text/html": [
       "<div>\n",
       "<style scoped>\n",
       "    .dataframe tbody tr th:only-of-type {\n",
       "        vertical-align: middle;\n",
       "    }\n",
       "\n",
       "    .dataframe tbody tr th {\n",
       "        vertical-align: top;\n",
       "    }\n",
       "\n",
       "    .dataframe thead th {\n",
       "        text-align: right;\n",
       "    }\n",
       "</style>\n",
       "<table border=\"1\" class=\"dataframe\">\n",
       "  <thead>\n",
       "    <tr style=\"text-align: right;\">\n",
       "      <th></th>\n",
       "      <th>ghi</th>\n",
       "      <th>dni</th>\n",
       "      <th>dhi</th>\n",
       "    </tr>\n",
       "  </thead>\n",
       "  <tbody>\n",
       "    <tr>\n",
       "      <th>2019-01-01 00:00:00+01:00</th>\n",
       "      <td>0.000000</td>\n",
       "      <td>0.000000</td>\n",
       "      <td>0.000000</td>\n",
       "    </tr>\n",
       "    <tr>\n",
       "      <th>2019-01-01 01:00:00+01:00</th>\n",
       "      <td>0.000000</td>\n",
       "      <td>0.000000</td>\n",
       "      <td>0.000000</td>\n",
       "    </tr>\n",
       "    <tr>\n",
       "      <th>2019-01-01 02:00:00+01:00</th>\n",
       "      <td>0.000000</td>\n",
       "      <td>0.000000</td>\n",
       "      <td>0.000000</td>\n",
       "    </tr>\n",
       "    <tr>\n",
       "      <th>2019-01-01 03:00:00+01:00</th>\n",
       "      <td>0.000000</td>\n",
       "      <td>0.000000</td>\n",
       "      <td>0.000000</td>\n",
       "    </tr>\n",
       "    <tr>\n",
       "      <th>2019-01-01 04:00:00+01:00</th>\n",
       "      <td>0.000000</td>\n",
       "      <td>0.000000</td>\n",
       "      <td>0.000000</td>\n",
       "    </tr>\n",
       "    <tr>\n",
       "      <th>2019-01-01 05:00:00+01:00</th>\n",
       "      <td>0.000000</td>\n",
       "      <td>0.000000</td>\n",
       "      <td>0.000000</td>\n",
       "    </tr>\n",
       "    <tr>\n",
       "      <th>2019-01-01 06:00:00+01:00</th>\n",
       "      <td>0.000000</td>\n",
       "      <td>0.000000</td>\n",
       "      <td>0.000000</td>\n",
       "    </tr>\n",
       "    <tr>\n",
       "      <th>2019-01-01 07:00:00+01:00</th>\n",
       "      <td>0.000000</td>\n",
       "      <td>0.000000</td>\n",
       "      <td>0.000000</td>\n",
       "    </tr>\n",
       "    <tr>\n",
       "      <th>2019-01-01 08:00:00+01:00</th>\n",
       "      <td>0.000000</td>\n",
       "      <td>0.000000</td>\n",
       "      <td>0.000000</td>\n",
       "    </tr>\n",
       "    <tr>\n",
       "      <th>2019-01-01 09:00:00+01:00</th>\n",
       "      <td>4.615736</td>\n",
       "      <td>43.591659</td>\n",
       "      <td>3.142002</td>\n",
       "    </tr>\n",
       "    <tr>\n",
       "      <th>2019-01-01 10:00:00+01:00</th>\n",
       "      <td>80.062724</td>\n",
       "      <td>374.536980</td>\n",
       "      <td>27.843032</td>\n",
       "    </tr>\n",
       "    <tr>\n",
       "      <th>2019-01-01 11:00:00+01:00</th>\n",
       "      <td>162.016599</td>\n",
       "      <td>552.564180</td>\n",
       "      <td>41.775282</td>\n",
       "    </tr>\n",
       "    <tr>\n",
       "      <th>2019-01-01 12:00:00+01:00</th>\n",
       "      <td>210.291305</td>\n",
       "      <td>623.064484</td>\n",
       "      <td>47.872833</td>\n",
       "    </tr>\n",
       "    <tr>\n",
       "      <th>2019-01-01 13:00:00+01:00</th>\n",
       "      <td>215.702239</td>\n",
       "      <td>629.939787</td>\n",
       "      <td>48.496325</td>\n",
       "    </tr>\n",
       "    <tr>\n",
       "      <th>2019-01-01 14:00:00+01:00</th>\n",
       "      <td>177.457829</td>\n",
       "      <td>577.099474</td>\n",
       "      <td>43.842678</td>\n",
       "    </tr>\n",
       "    <tr>\n",
       "      <th>2019-01-01 15:00:00+01:00</th>\n",
       "      <td>102.076331</td>\n",
       "      <td>432.566347</td>\n",
       "      <td>32.236133</td>\n",
       "    </tr>\n",
       "    <tr>\n",
       "      <th>2019-01-01 16:00:00+01:00</th>\n",
       "      <td>16.667894</td>\n",
       "      <td>122.501430</td>\n",
       "      <td>9.167373</td>\n",
       "    </tr>\n",
       "    <tr>\n",
       "      <th>2019-01-01 17:00:00+01:00</th>\n",
       "      <td>0.000000</td>\n",
       "      <td>0.000000</td>\n",
       "      <td>0.000000</td>\n",
       "    </tr>\n",
       "    <tr>\n",
       "      <th>2019-01-01 18:00:00+01:00</th>\n",
       "      <td>0.000000</td>\n",
       "      <td>0.000000</td>\n",
       "      <td>0.000000</td>\n",
       "    </tr>\n",
       "    <tr>\n",
       "      <th>2019-01-01 19:00:00+01:00</th>\n",
       "      <td>0.000000</td>\n",
       "      <td>0.000000</td>\n",
       "      <td>0.000000</td>\n",
       "    </tr>\n",
       "    <tr>\n",
       "      <th>2019-01-01 20:00:00+01:00</th>\n",
       "      <td>0.000000</td>\n",
       "      <td>0.000000</td>\n",
       "      <td>0.000000</td>\n",
       "    </tr>\n",
       "    <tr>\n",
       "      <th>2019-01-01 21:00:00+01:00</th>\n",
       "      <td>0.000000</td>\n",
       "      <td>0.000000</td>\n",
       "      <td>0.000000</td>\n",
       "    </tr>\n",
       "    <tr>\n",
       "      <th>2019-01-01 22:00:00+01:00</th>\n",
       "      <td>0.000000</td>\n",
       "      <td>0.000000</td>\n",
       "      <td>0.000000</td>\n",
       "    </tr>\n",
       "    <tr>\n",
       "      <th>2019-01-01 23:00:00+01:00</th>\n",
       "      <td>0.000000</td>\n",
       "      <td>0.000000</td>\n",
       "      <td>0.000000</td>\n",
       "    </tr>\n",
       "  </tbody>\n",
       "</table>\n",
       "</div>"
      ],
      "text/plain": [
       "                                  ghi         dni        dhi\n",
       "2019-01-01 00:00:00+01:00    0.000000    0.000000   0.000000\n",
       "2019-01-01 01:00:00+01:00    0.000000    0.000000   0.000000\n",
       "2019-01-01 02:00:00+01:00    0.000000    0.000000   0.000000\n",
       "2019-01-01 03:00:00+01:00    0.000000    0.000000   0.000000\n",
       "2019-01-01 04:00:00+01:00    0.000000    0.000000   0.000000\n",
       "2019-01-01 05:00:00+01:00    0.000000    0.000000   0.000000\n",
       "2019-01-01 06:00:00+01:00    0.000000    0.000000   0.000000\n",
       "2019-01-01 07:00:00+01:00    0.000000    0.000000   0.000000\n",
       "2019-01-01 08:00:00+01:00    0.000000    0.000000   0.000000\n",
       "2019-01-01 09:00:00+01:00    4.615736   43.591659   3.142002\n",
       "2019-01-01 10:00:00+01:00   80.062724  374.536980  27.843032\n",
       "2019-01-01 11:00:00+01:00  162.016599  552.564180  41.775282\n",
       "2019-01-01 12:00:00+01:00  210.291305  623.064484  47.872833\n",
       "2019-01-01 13:00:00+01:00  215.702239  629.939787  48.496325\n",
       "2019-01-01 14:00:00+01:00  177.457829  577.099474  43.842678\n",
       "2019-01-01 15:00:00+01:00  102.076331  432.566347  32.236133\n",
       "2019-01-01 16:00:00+01:00   16.667894  122.501430   9.167373\n",
       "2019-01-01 17:00:00+01:00    0.000000    0.000000   0.000000\n",
       "2019-01-01 18:00:00+01:00    0.000000    0.000000   0.000000\n",
       "2019-01-01 19:00:00+01:00    0.000000    0.000000   0.000000\n",
       "2019-01-01 20:00:00+01:00    0.000000    0.000000   0.000000\n",
       "2019-01-01 21:00:00+01:00    0.000000    0.000000   0.000000\n",
       "2019-01-01 22:00:00+01:00    0.000000    0.000000   0.000000\n",
       "2019-01-01 23:00:00+01:00    0.000000    0.000000   0.000000"
      ]
     },
     "execution_count": 30,
     "metadata": {},
     "output_type": "execute_result"
    }
   ],
   "source": [
    "clearsky.head(24)"
   ]
  },
  {
   "cell_type": "code",
   "execution_count": 31,
   "metadata": {},
   "outputs": [],
   "source": [
    "poa_cs_irradiance = pvlib.irradiance.get_total_irradiance(\n",
    "    surface_tilt=surface_tilt,\n",
    "    surface_azimuth=surface_azimuth,\n",
    "    dni=clearsky['dni'],\n",
    "    ghi=clearsky['ghi'],\n",
    "    dhi=clearsky['dhi'],\n",
    "    solar_zenith=solar_position['apparent_zenith'],\n",
    "    solar_azimuth=solar_position['azimuth'],\n",
    "    model='isotropic')"
   ]
  },
  {
   "cell_type": "code",
   "execution_count": 32,
   "metadata": {},
   "outputs": [
    {
     "data": {
      "text/html": [
       "<div>\n",
       "<style scoped>\n",
       "    .dataframe tbody tr th:only-of-type {\n",
       "        vertical-align: middle;\n",
       "    }\n",
       "\n",
       "    .dataframe tbody tr th {\n",
       "        vertical-align: top;\n",
       "    }\n",
       "\n",
       "    .dataframe thead th {\n",
       "        text-align: right;\n",
       "    }\n",
       "</style>\n",
       "<table border=\"1\" class=\"dataframe\">\n",
       "  <thead>\n",
       "    <tr style=\"text-align: right;\">\n",
       "      <th></th>\n",
       "      <th>poa_global</th>\n",
       "      <th>poa_direct</th>\n",
       "      <th>poa_diffuse</th>\n",
       "      <th>poa_sky_diffuse</th>\n",
       "      <th>poa_ground_diffuse</th>\n",
       "    </tr>\n",
       "  </thead>\n",
       "  <tbody>\n",
       "    <tr>\n",
       "      <th>2019-01-01 00:00:00+01:00</th>\n",
       "      <td>0.0</td>\n",
       "      <td>-0.0</td>\n",
       "      <td>0.0</td>\n",
       "      <td>0.0</td>\n",
       "      <td>0.0</td>\n",
       "    </tr>\n",
       "    <tr>\n",
       "      <th>2019-01-01 01:00:00+01:00</th>\n",
       "      <td>0.0</td>\n",
       "      <td>-0.0</td>\n",
       "      <td>0.0</td>\n",
       "      <td>0.0</td>\n",
       "      <td>0.0</td>\n",
       "    </tr>\n",
       "    <tr>\n",
       "      <th>2019-01-01 02:00:00+01:00</th>\n",
       "      <td>0.0</td>\n",
       "      <td>-0.0</td>\n",
       "      <td>0.0</td>\n",
       "      <td>0.0</td>\n",
       "      <td>0.0</td>\n",
       "    </tr>\n",
       "    <tr>\n",
       "      <th>2019-01-01 03:00:00+01:00</th>\n",
       "      <td>0.0</td>\n",
       "      <td>-0.0</td>\n",
       "      <td>0.0</td>\n",
       "      <td>0.0</td>\n",
       "      <td>0.0</td>\n",
       "    </tr>\n",
       "    <tr>\n",
       "      <th>2019-01-01 04:00:00+01:00</th>\n",
       "      <td>0.0</td>\n",
       "      <td>-0.0</td>\n",
       "      <td>0.0</td>\n",
       "      <td>0.0</td>\n",
       "      <td>0.0</td>\n",
       "    </tr>\n",
       "    <tr>\n",
       "      <th>...</th>\n",
       "      <td>...</td>\n",
       "      <td>...</td>\n",
       "      <td>...</td>\n",
       "      <td>...</td>\n",
       "      <td>...</td>\n",
       "    </tr>\n",
       "    <tr>\n",
       "      <th>2019-12-31 19:00:00+01:00</th>\n",
       "      <td>0.0</td>\n",
       "      <td>0.0</td>\n",
       "      <td>0.0</td>\n",
       "      <td>0.0</td>\n",
       "      <td>0.0</td>\n",
       "    </tr>\n",
       "    <tr>\n",
       "      <th>2019-12-31 20:00:00+01:00</th>\n",
       "      <td>0.0</td>\n",
       "      <td>-0.0</td>\n",
       "      <td>0.0</td>\n",
       "      <td>0.0</td>\n",
       "      <td>0.0</td>\n",
       "    </tr>\n",
       "    <tr>\n",
       "      <th>2019-12-31 21:00:00+01:00</th>\n",
       "      <td>0.0</td>\n",
       "      <td>-0.0</td>\n",
       "      <td>0.0</td>\n",
       "      <td>0.0</td>\n",
       "      <td>0.0</td>\n",
       "    </tr>\n",
       "    <tr>\n",
       "      <th>2019-12-31 22:00:00+01:00</th>\n",
       "      <td>0.0</td>\n",
       "      <td>-0.0</td>\n",
       "      <td>0.0</td>\n",
       "      <td>0.0</td>\n",
       "      <td>0.0</td>\n",
       "    </tr>\n",
       "    <tr>\n",
       "      <th>2019-12-31 23:00:00+01:00</th>\n",
       "      <td>0.0</td>\n",
       "      <td>-0.0</td>\n",
       "      <td>0.0</td>\n",
       "      <td>0.0</td>\n",
       "      <td>0.0</td>\n",
       "    </tr>\n",
       "  </tbody>\n",
       "</table>\n",
       "<p>8760 rows × 5 columns</p>\n",
       "</div>"
      ],
      "text/plain": [
       "                           poa_global  poa_direct  poa_diffuse  \\\n",
       "2019-01-01 00:00:00+01:00         0.0        -0.0          0.0   \n",
       "2019-01-01 01:00:00+01:00         0.0        -0.0          0.0   \n",
       "2019-01-01 02:00:00+01:00         0.0        -0.0          0.0   \n",
       "2019-01-01 03:00:00+01:00         0.0        -0.0          0.0   \n",
       "2019-01-01 04:00:00+01:00         0.0        -0.0          0.0   \n",
       "...                               ...         ...          ...   \n",
       "2019-12-31 19:00:00+01:00         0.0         0.0          0.0   \n",
       "2019-12-31 20:00:00+01:00         0.0        -0.0          0.0   \n",
       "2019-12-31 21:00:00+01:00         0.0        -0.0          0.0   \n",
       "2019-12-31 22:00:00+01:00         0.0        -0.0          0.0   \n",
       "2019-12-31 23:00:00+01:00         0.0        -0.0          0.0   \n",
       "\n",
       "                           poa_sky_diffuse  poa_ground_diffuse  \n",
       "2019-01-01 00:00:00+01:00              0.0                 0.0  \n",
       "2019-01-01 01:00:00+01:00              0.0                 0.0  \n",
       "2019-01-01 02:00:00+01:00              0.0                 0.0  \n",
       "2019-01-01 03:00:00+01:00              0.0                 0.0  \n",
       "2019-01-01 04:00:00+01:00              0.0                 0.0  \n",
       "...                                    ...                 ...  \n",
       "2019-12-31 19:00:00+01:00              0.0                 0.0  \n",
       "2019-12-31 20:00:00+01:00              0.0                 0.0  \n",
       "2019-12-31 21:00:00+01:00              0.0                 0.0  \n",
       "2019-12-31 22:00:00+01:00              0.0                 0.0  \n",
       "2019-12-31 23:00:00+01:00              0.0                 0.0  \n",
       "\n",
       "[8760 rows x 5 columns]"
      ]
     },
     "execution_count": 32,
     "metadata": {},
     "output_type": "execute_result"
    }
   ],
   "source": [
    "poa_cs_irradiance"
   ]
  },
  {
   "cell_type": "code",
   "execution_count": null,
   "metadata": {},
   "outputs": [],
   "source": []
  },
  {
   "cell_type": "markdown",
   "metadata": {
    "tags": []
   },
   "source": [
    "### Compare Daily POA Irradiances from TMY Data and Clear Sky Data\n",
    "\n",
    "The question is how many joules per square meter were collected in one day. This is the daily irradiance. \n",
    "\n",
    "Pandas dataframes have another fantastic function: `df.resample()`. Read the article \"Using the Pandas 'Resample' Function\" by Jeremy Chow on [Towards Data Science](https://towardsdatascience.com/using-the-pandas-resample-function-a231144194c4).\n",
    "\n",
    "Aggregate the hourly time series to daily time series:"
   ]
  },
  {
   "cell_type": "code",
   "execution_count": 33,
   "metadata": {},
   "outputs": [],
   "source": [
    "poa_tmy_daily = poa_tmy_irradiance.resample('d').sum()\n",
    "poa_cs_daily = poa_cs_irradiance.resample('d').sum()"
   ]
  },
  {
   "cell_type": "code",
   "execution_count": 34,
   "metadata": {},
   "outputs": [
    {
     "data": {
      "text/html": [
       "<div>\n",
       "<style scoped>\n",
       "    .dataframe tbody tr th:only-of-type {\n",
       "        vertical-align: middle;\n",
       "    }\n",
       "\n",
       "    .dataframe tbody tr th {\n",
       "        vertical-align: top;\n",
       "    }\n",
       "\n",
       "    .dataframe thead th {\n",
       "        text-align: right;\n",
       "    }\n",
       "</style>\n",
       "<table border=\"1\" class=\"dataframe\">\n",
       "  <thead>\n",
       "    <tr style=\"text-align: right;\">\n",
       "      <th></th>\n",
       "      <th>poa_global</th>\n",
       "      <th>poa_direct</th>\n",
       "      <th>poa_diffuse</th>\n",
       "      <th>poa_sky_diffuse</th>\n",
       "      <th>poa_ground_diffuse</th>\n",
       "    </tr>\n",
       "  </thead>\n",
       "  <tbody>\n",
       "    <tr>\n",
       "      <th>2019-01-01 00:00:00+01:00</th>\n",
       "      <td>1437.612889</td>\n",
       "      <td>1044.287744</td>\n",
       "      <td>393.325145</td>\n",
       "      <td>375.071106</td>\n",
       "      <td>18.254039</td>\n",
       "    </tr>\n",
       "    <tr>\n",
       "      <th>2019-01-02 00:00:00+01:00</th>\n",
       "      <td>298.076994</td>\n",
       "      <td>12.998415</td>\n",
       "      <td>285.078579</td>\n",
       "      <td>279.903811</td>\n",
       "      <td>5.174769</td>\n",
       "    </tr>\n",
       "    <tr>\n",
       "      <th>2019-01-03 00:00:00+01:00</th>\n",
       "      <td>627.239188</td>\n",
       "      <td>224.012378</td>\n",
       "      <td>403.226810</td>\n",
       "      <td>393.731360</td>\n",
       "      <td>9.495450</td>\n",
       "    </tr>\n",
       "    <tr>\n",
       "      <th>2019-01-04 00:00:00+01:00</th>\n",
       "      <td>496.901727</td>\n",
       "      <td>25.285103</td>\n",
       "      <td>471.616623</td>\n",
       "      <td>462.774300</td>\n",
       "      <td>8.842323</td>\n",
       "    </tr>\n",
       "    <tr>\n",
       "      <th>2019-01-05 00:00:00+01:00</th>\n",
       "      <td>1324.725526</td>\n",
       "      <td>905.555912</td>\n",
       "      <td>419.169614</td>\n",
       "      <td>400.262449</td>\n",
       "      <td>18.907165</td>\n",
       "    </tr>\n",
       "    <tr>\n",
       "      <th>...</th>\n",
       "      <td>...</td>\n",
       "      <td>...</td>\n",
       "      <td>...</td>\n",
       "      <td>...</td>\n",
       "      <td>...</td>\n",
       "    </tr>\n",
       "    <tr>\n",
       "      <th>2019-12-27 00:00:00+01:00</th>\n",
       "      <td>882.569924</td>\n",
       "      <td>401.151771</td>\n",
       "      <td>481.418153</td>\n",
       "      <td>468.372376</td>\n",
       "      <td>13.045776</td>\n",
       "    </tr>\n",
       "    <tr>\n",
       "      <th>2019-12-28 00:00:00+01:00</th>\n",
       "      <td>974.203768</td>\n",
       "      <td>501.553479</td>\n",
       "      <td>472.650290</td>\n",
       "      <td>457.176224</td>\n",
       "      <td>15.474066</td>\n",
       "    </tr>\n",
       "    <tr>\n",
       "      <th>2019-12-29 00:00:00+01:00</th>\n",
       "      <td>1132.442133</td>\n",
       "      <td>662.490400</td>\n",
       "      <td>469.951733</td>\n",
       "      <td>454.377186</td>\n",
       "      <td>15.574547</td>\n",
       "    </tr>\n",
       "    <tr>\n",
       "      <th>2019-12-30 00:00:00+01:00</th>\n",
       "      <td>1171.182519</td>\n",
       "      <td>740.044081</td>\n",
       "      <td>431.138439</td>\n",
       "      <td>414.257640</td>\n",
       "      <td>16.880799</td>\n",
       "    </tr>\n",
       "    <tr>\n",
       "      <th>2019-12-31 00:00:00+01:00</th>\n",
       "      <td>1390.429731</td>\n",
       "      <td>980.068774</td>\n",
       "      <td>410.360957</td>\n",
       "      <td>393.731360</td>\n",
       "      <td>16.629597</td>\n",
       "    </tr>\n",
       "  </tbody>\n",
       "</table>\n",
       "<p>365 rows × 5 columns</p>\n",
       "</div>"
      ],
      "text/plain": [
       "                            poa_global   poa_direct  poa_diffuse  \\\n",
       "2019-01-01 00:00:00+01:00  1437.612889  1044.287744   393.325145   \n",
       "2019-01-02 00:00:00+01:00   298.076994    12.998415   285.078579   \n",
       "2019-01-03 00:00:00+01:00   627.239188   224.012378   403.226810   \n",
       "2019-01-04 00:00:00+01:00   496.901727    25.285103   471.616623   \n",
       "2019-01-05 00:00:00+01:00  1324.725526   905.555912   419.169614   \n",
       "...                                ...          ...          ...   \n",
       "2019-12-27 00:00:00+01:00   882.569924   401.151771   481.418153   \n",
       "2019-12-28 00:00:00+01:00   974.203768   501.553479   472.650290   \n",
       "2019-12-29 00:00:00+01:00  1132.442133   662.490400   469.951733   \n",
       "2019-12-30 00:00:00+01:00  1171.182519   740.044081   431.138439   \n",
       "2019-12-31 00:00:00+01:00  1390.429731   980.068774   410.360957   \n",
       "\n",
       "                           poa_sky_diffuse  poa_ground_diffuse  \n",
       "2019-01-01 00:00:00+01:00       375.071106           18.254039  \n",
       "2019-01-02 00:00:00+01:00       279.903811            5.174769  \n",
       "2019-01-03 00:00:00+01:00       393.731360            9.495450  \n",
       "2019-01-04 00:00:00+01:00       462.774300            8.842323  \n",
       "2019-01-05 00:00:00+01:00       400.262449           18.907165  \n",
       "...                                    ...                 ...  \n",
       "2019-12-27 00:00:00+01:00       468.372376           13.045776  \n",
       "2019-12-28 00:00:00+01:00       457.176224           15.474066  \n",
       "2019-12-29 00:00:00+01:00       454.377186           15.574547  \n",
       "2019-12-30 00:00:00+01:00       414.257640           16.880799  \n",
       "2019-12-31 00:00:00+01:00       393.731360           16.629597  \n",
       "\n",
       "[365 rows x 5 columns]"
      ]
     },
     "execution_count": 34,
     "metadata": {},
     "output_type": "execute_result"
    }
   ],
   "source": [
    "poa_tmy_daily"
   ]
  },
  {
   "cell_type": "code",
   "execution_count": 35,
   "metadata": {},
   "outputs": [
    {
     "data": {
      "text/html": [
       "<div>\n",
       "<style scoped>\n",
       "    .dataframe tbody tr th:only-of-type {\n",
       "        vertical-align: middle;\n",
       "    }\n",
       "\n",
       "    .dataframe tbody tr th {\n",
       "        vertical-align: top;\n",
       "    }\n",
       "\n",
       "    .dataframe thead th {\n",
       "        text-align: right;\n",
       "    }\n",
       "</style>\n",
       "<table border=\"1\" class=\"dataframe\">\n",
       "  <thead>\n",
       "    <tr style=\"text-align: right;\">\n",
       "      <th></th>\n",
       "      <th>poa_global</th>\n",
       "      <th>poa_direct</th>\n",
       "      <th>poa_diffuse</th>\n",
       "      <th>poa_sky_diffuse</th>\n",
       "      <th>poa_ground_diffuse</th>\n",
       "    </tr>\n",
       "  </thead>\n",
       "  <tbody>\n",
       "    <tr>\n",
       "      <th>2019-01-01 00:00:00+01:00</th>\n",
       "      <td>1794.199091</td>\n",
       "      <td>1540.637529</td>\n",
       "      <td>253.561562</td>\n",
       "      <td>237.335720</td>\n",
       "      <td>16.225842</td>\n",
       "    </tr>\n",
       "    <tr>\n",
       "      <th>2019-01-02 00:00:00+01:00</th>\n",
       "      <td>1807.306799</td>\n",
       "      <td>1551.485325</td>\n",
       "      <td>255.821474</td>\n",
       "      <td>239.433115</td>\n",
       "      <td>16.388359</td>\n",
       "    </tr>\n",
       "    <tr>\n",
       "      <th>2019-01-03 00:00:00+01:00</th>\n",
       "      <td>1821.665848</td>\n",
       "      <td>1563.417177</td>\n",
       "      <td>258.248671</td>\n",
       "      <td>241.682243</td>\n",
       "      <td>16.566428</td>\n",
       "    </tr>\n",
       "    <tr>\n",
       "      <th>2019-01-04 00:00:00+01:00</th>\n",
       "      <td>1837.259159</td>\n",
       "      <td>1576.417451</td>\n",
       "      <td>260.841707</td>\n",
       "      <td>244.081613</td>\n",
       "      <td>16.760094</td>\n",
       "    </tr>\n",
       "    <tr>\n",
       "      <th>2019-01-05 00:00:00+01:00</th>\n",
       "      <td>1854.067742</td>\n",
       "      <td>1590.468783</td>\n",
       "      <td>263.598959</td>\n",
       "      <td>246.629560</td>\n",
       "      <td>16.969398</td>\n",
       "    </tr>\n",
       "    <tr>\n",
       "      <th>...</th>\n",
       "      <td>...</td>\n",
       "      <td>...</td>\n",
       "      <td>...</td>\n",
       "      <td>...</td>\n",
       "      <td>...</td>\n",
       "    </tr>\n",
       "    <tr>\n",
       "      <th>2019-12-27 00:00:00+01:00</th>\n",
       "      <td>1745.903367</td>\n",
       "      <td>1501.345866</td>\n",
       "      <td>244.557501</td>\n",
       "      <td>228.934638</td>\n",
       "      <td>15.622863</td>\n",
       "    </tr>\n",
       "    <tr>\n",
       "      <th>2019-12-28 00:00:00+01:00</th>\n",
       "      <td>1752.239172</td>\n",
       "      <td>1506.316088</td>\n",
       "      <td>245.923085</td>\n",
       "      <td>230.218660</td>\n",
       "      <td>15.704425</td>\n",
       "    </tr>\n",
       "    <tr>\n",
       "      <th>2019-12-29 00:00:00+01:00</th>\n",
       "      <td>1759.883266</td>\n",
       "      <td>1512.422845</td>\n",
       "      <td>247.460421</td>\n",
       "      <td>231.659103</td>\n",
       "      <td>15.801318</td>\n",
       "    </tr>\n",
       "    <tr>\n",
       "      <th>2019-12-30 00:00:00+01:00</th>\n",
       "      <td>1768.829125</td>\n",
       "      <td>1519.660002</td>\n",
       "      <td>249.169123</td>\n",
       "      <td>233.255539</td>\n",
       "      <td>15.913584</td>\n",
       "    </tr>\n",
       "    <tr>\n",
       "      <th>2019-12-31 00:00:00+01:00</th>\n",
       "      <td>1779.068393</td>\n",
       "      <td>1528.019781</td>\n",
       "      <td>251.048613</td>\n",
       "      <td>235.007346</td>\n",
       "      <td>16.041266</td>\n",
       "    </tr>\n",
       "  </tbody>\n",
       "</table>\n",
       "<p>365 rows × 5 columns</p>\n",
       "</div>"
      ],
      "text/plain": [
       "                            poa_global   poa_direct  poa_diffuse  \\\n",
       "2019-01-01 00:00:00+01:00  1794.199091  1540.637529   253.561562   \n",
       "2019-01-02 00:00:00+01:00  1807.306799  1551.485325   255.821474   \n",
       "2019-01-03 00:00:00+01:00  1821.665848  1563.417177   258.248671   \n",
       "2019-01-04 00:00:00+01:00  1837.259159  1576.417451   260.841707   \n",
       "2019-01-05 00:00:00+01:00  1854.067742  1590.468783   263.598959   \n",
       "...                                ...          ...          ...   \n",
       "2019-12-27 00:00:00+01:00  1745.903367  1501.345866   244.557501   \n",
       "2019-12-28 00:00:00+01:00  1752.239172  1506.316088   245.923085   \n",
       "2019-12-29 00:00:00+01:00  1759.883266  1512.422845   247.460421   \n",
       "2019-12-30 00:00:00+01:00  1768.829125  1519.660002   249.169123   \n",
       "2019-12-31 00:00:00+01:00  1779.068393  1528.019781   251.048613   \n",
       "\n",
       "                           poa_sky_diffuse  poa_ground_diffuse  \n",
       "2019-01-01 00:00:00+01:00       237.335720           16.225842  \n",
       "2019-01-02 00:00:00+01:00       239.433115           16.388359  \n",
       "2019-01-03 00:00:00+01:00       241.682243           16.566428  \n",
       "2019-01-04 00:00:00+01:00       244.081613           16.760094  \n",
       "2019-01-05 00:00:00+01:00       246.629560           16.969398  \n",
       "...                                    ...                 ...  \n",
       "2019-12-27 00:00:00+01:00       228.934638           15.622863  \n",
       "2019-12-28 00:00:00+01:00       230.218660           15.704425  \n",
       "2019-12-29 00:00:00+01:00       231.659103           15.801318  \n",
       "2019-12-30 00:00:00+01:00       233.255539           15.913584  \n",
       "2019-12-31 00:00:00+01:00       235.007346           16.041266  \n",
       "\n",
       "[365 rows x 5 columns]"
      ]
     },
     "execution_count": 35,
     "metadata": {},
     "output_type": "execute_result"
    }
   ],
   "source": [
    "poa_cs_daily"
   ]
  },
  {
   "cell_type": "code",
   "execution_count": 36,
   "metadata": {},
   "outputs": [
    {
     "data": {
      "image/png": "[encoded data removed]",
      "text/plain": [
       "<Figure size 1088x816 with 1 Axes>"
      ]
     },
     "metadata": {
      "needs_background": "light"
     },
     "output_type": "display_data"
    }
   ],
   "source": [
    "fig1, ax1 = plt.subplots(figsize=(8,6), dpi=136)\n",
    "poa_cs_daily[\"poa_global\"].plot(ax=ax1, label=\"CS\")\n",
    "poa_tmy_daily[\"poa_global\"].plot(ax=ax1, label=\"TMY\")\n",
    "ax1.set_title(\"Global Daily Irradiance on POA\")\n",
    "ax1.grid(True)\n",
    "ax1.legend()\n",
    "plt.show()"
   ]
  },
  {
   "cell_type": "markdown",
   "metadata": {},
   "source": [
    "**Q 6.1:** What is the variable on the y-axis? What is its unit? Add axis labels and title to the plot!"
   ]
  },
  {
   "cell_type": "code",
   "execution_count": null,
   "metadata": {},
   "outputs": [],
   "source": []
  },
  {
   "cell_type": "markdown",
   "metadata": {},
   "source": [
    "**Q 6.2:** Why is the CS curve to smooth and TMY not?"
   ]
  },
  {
   "cell_type": "markdown",
   "metadata": {},
   "source": [
    "**Answer:** ..."
   ]
  },
  {
   "cell_type": "markdown",
   "metadata": {},
   "source": [
    "**Q 6.3:** Aggregate the time series on a monthly instead of daily grid. Plot the monthly aggregates! Use the right units!"
   ]
  },
  {
   "cell_type": "code",
   "execution_count": 37,
   "metadata": {},
   "outputs": [],
   "source": [
    "# Code\n",
    "\n",
    "# poa_tmy_monthly = \n",
    "\n",
    "# poa_cs_monthly = \n",
    "\n",
    "# ...\n",
    "\n",
    "# plot"
   ]
  },
  {
   "cell_type": "markdown",
   "metadata": {},
   "source": [
    "**Q 6.4:** Why is now the TMY curve relatively smooth? What is the ratio of TMY and CS curves? The next step in the analysis would be to use a PV module model to transform the POA irradiance to electrical output. Which POA irradiance would you use to estimate the PV power output: based on TMY or CS?"
   ]
  },
  {
   "cell_type": "markdown",
   "metadata": {},
   "source": [
    "**Answer:** ..."
   ]
  },
  {
   "cell_type": "markdown",
   "metadata": {},
   "source": [
    "## 7. Do something exciting!\n",
    "\n",
    "**Design your own analysis!** You are **free** to apply your knowledge about **PVLIB** to your own ideas! Would you like to do an [**tilt angle opimization**](https://pvlib-python.readthedocs.io/en/stable/gallery/irradiance-transposition/plot_transposition_gain.html) or would you like to **choose another location** and compare the POA with that at the Green Fab Lab in Kamp-Lintfort, Germany or **anything else?** Do what you would like to do but it has to be an **application of PVLIB!**\n"
   ]
  },
  {
   "cell_type": "code",
   "execution_count": null,
   "metadata": {},
   "outputs": [],
   "source": []
  },
  {
   "cell_type": "code",
   "execution_count": null,
   "metadata": {},
   "outputs": [],
   "source": []
  }
 ],
 "metadata": {
  "kernelspec": {
   "display_name": "Python 3 (ipykernel)",
   "language": "python",
   "name": "python3"
  },
  "language_info": {
   "codemirror_mode": {
    "name": "ipython",
    "version": 3
   },
   "file_extension": ".py",
   "mimetype": "text/x-python",
   "name": "python",
   "nbconvert_exporter": "python",
   "pygments_lexer": "ipython3",
   "version": "3.10.5"
  }
 },
 "nbformat": 4,
 "nbformat_minor": 4
}
