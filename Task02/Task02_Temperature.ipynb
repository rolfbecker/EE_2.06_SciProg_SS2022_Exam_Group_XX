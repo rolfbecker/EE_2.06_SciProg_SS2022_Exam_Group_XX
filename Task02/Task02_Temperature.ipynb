{
 "cells": [
  {
   "cell_type": "markdown",
   "metadata": {},
   "source": [
    "# Task 02: Warming Stripes in North Rhine Westphalia (NRW)\n",
    "\n",
    "**[Ed Hawkins](https://en.wikipedia.org/wiki/Ed_Hawkins_%28climatologist%29) is a professor of climate science at the University of Reading**. He is engaged in science communication conveying climate change in data visualization. He designed the [climate spiral](https://en.wikipedia.org/wiki/Climate_spiral) as well as the [warming stripes](https://en.wikipedia.org/wiki/Warming_stripes).\n",
    "\n",
    "## Climate Spiral\n",
    "\n",
    "This animated gif by Ed Hawkins shows the development of monthly temperature differences to the monthly reference temperatures in 1850 (in degree Celsius). \n",
    "\n",
    "<img src = \"https://upload.wikimedia.org/wikipedia/commons/thumb/5/54/5_9_16_Andrea_TempSpiralEdHawkins.gif/451px-5_9_16_Andrea_TempSpiralEdHawkins.gif\"> </img>\n",
    "<br>\n",
    "*Fig.: Climate Spiral by Ed Hawkins.* <br>\n",
    "Source: [Wikipedia, Climate Spiral](https://en.wikipedia.org/wiki/Climate_spiral)\n",
    "\n",
    "## Warming Stripes\n",
    "\n",
    "<blockquote>\n",
    "Warming stripes (sometimes referred to as climate stripes, climate timelines or stripe graphics) are data visualization graphics that use a series of coloured stripes chronologically ordered to visually portray long-term temperature trends. Warming stripes reflect a \"minimalist\" tyle, conceived to use colour alone to avoid technical distractions and intuitively convey global warming trends to non-scientists. \n",
    "[...]\n",
    "</blockquote>\n",
    "\n",
    "Source: [Wikipedia, Warming Stripes](https://en.wikipedia.org/wiki/Warming_stripes)\n",
    "\n",
    "\n",
    "\n",
    "<img src = \"https://showyourstripes.info/stripes/GLOBE---1850-2020-MO-withlabels.png\" width = 800> </img>\n",
    "<br>\n",
    "*Fig.: Warming stripes on a global sclae, from 1850 until 2020* <br>\n",
    "Source: [showyourstripes.info](https://showyourstripes.info/)\n",
    "\n",
    "\n",
    "## EXERCISE: Global Warming in NRW \n",
    "\n",
    "**We worked on a similar example in lecture and exercises.** Have a look at the video recordings.\n",
    "\n",
    "Global warming can also be observed on a regional scale. You will investigate the temperature development in the German federal state of North Rhine Westphalia (NRW). You will use the data of the DWD (Deutscher Wetterdienst, German Weather Service).\n",
    "\n",
    "**Your task is to create a diagram comparable to the warming strips with data from 12 still active meteorological stations in North Rhine-Westphalia**, which provide long annual temperature time series (at least 50 years of data).\n",
    "\n",
    "### Download data from the DWD CDC archive \n",
    "\n",
    "Download the annual temperature data (part of the KL data set) for the stations listed here: <br>\n",
    "https://github.com/rolfbecker/EE_3.07_Geodata_WS2020/blob/main/gdms0170_DWD_NRW_long_TS/data/derived/DWD_stations_annual_temp_long_TS.csv\n",
    "\n",
    "You find the description of the climate stations providing mean annual temperature here: <br>\n",
    "https://opendata.dwd.de/climate_environment/CDC/observations_germany/climate/annual/kl/historical/KL_Jahreswerte_Beschreibung_Stationen.txt\n",
    "\n",
    "Donwload the data (zip archives) for the 12 stations, **move them to the local data directory** `./data/` \n",
    "<br>and unzip them in different subdirectories, i.e. on Windows `<right click> -> 'extract all ...'`\n",
    "\n",
    "\n",
    "#### About the DWD CDC Archive\n",
    "\n",
    "Additional information about the DWD CDC archive as well as data organization and file formats might be helpful to solve the problem.\n",
    "\n",
    "* DWD: Deutscher Wetterdient, German Weather Service\n",
    "* CDC: Climate Data Center\n",
    "\n",
    "1. DWD CDC main web portal:\n",
    "<br> https://www.dwd.de/EN/climate_environment/cdc/cdc_en.html\n",
    "1. Open Data Archive of the DWD CDC: \n",
    "<br> https://opendata.dwd.de/climate_environment/CDC/\n",
    "1. Decription of the CDC climate and environment data archive organization:\n",
    "<br> https://opendata.dwd.de/climate_environment/CDC/Readme_intro_CDC_ftp.pdf\n",
    "1. Historical climate data:\n",
    "<br> https://opendata.dwd.de/climate_environment/CDC/observations_germany/climate/annual/kl/historical/\n",
    "\n",
    "\n"
   ]
  },
  {
   "cell_type": "markdown",
   "metadata": {},
   "source": [
    "### Read the annual temperature time series from the product files and merge them in a data frame\n",
    "\n",
    "  1. The files containing the historical time series start with `produkt_klima_jahr_...`. Read the file into a pandas dataframe (we did it several times in class). \n",
    "  1. Convert the columns containing dates (e.g. `MESS_DATUM_BEGINN`) to the data type datetime (aka timestamp).\n",
    "  1. Convert the datetime columns to datetime **with timezone**. The DWD stores the data in UTC. \n",
    "  1. Make `MESS_DATUM_BEGINN` the index column (data type datetime with timezone).\n",
    "  1. Handle the no data values (missing values) appropriately! They should be stored as the special value `NaN`.\n",
    "  1. Extract the time series with the annual temperatures (Which column?) and convert the series to a data frame. The column of the new data frame should be named after the station id.\n",
    "  1. Merge these 12 data frames containing the temperature time series into **one wide dataframe** such that they share the same time column. Use **outer join**. Each of the 12 columns  of this big dataframe contains the annual temperature time series of one station. The column name is the station ID.\n",
    "\n",
    "\n",
    "\n"
   ]
  },
  {
   "cell_type": "code",
   "execution_count": null,
   "metadata": {},
   "outputs": [],
   "source": []
  },
  {
   "cell_type": "markdown",
   "metadata": {},
   "source": [
    "### Plot the 12 time series\n",
    "\n",
    "Use the **Pandas series plot function** (not matplotlib.pyplot.plot() !) to create 12 line graphs (scatter plots, x-y-plots) in one diagram! Label the axes appropriately. Add a title. Create a legend. "
   ]
  },
  {
   "cell_type": "code",
   "execution_count": null,
   "metadata": {},
   "outputs": [],
   "source": []
  },
  {
   "cell_type": "markdown",
   "metadata": {},
   "source": [
    "### Compare the stations 1303 and 2483\n",
    "\n",
    "1. Produce a scatter plot with just these two series. What do you observe?\n",
    "1. Subtract the two curves and plot the difference in another figure. What do you observe? Can you explain it?\n",
    "1. Limit the analysis to the time interval 1970 to 2020. Plot the temperatures of station 1303 on the x-axis and of station 2483 on the y-axis. What do you observe?\n"
   ]
  },
  {
   "cell_type": "code",
   "execution_count": null,
   "metadata": {},
   "outputs": [],
   "source": []
  },
  {
   "cell_type": "markdown",
   "metadata": {},
   "source": [
    "### Analyse the temperature differences relative to a reference temperature\n",
    "\n",
    "Determine for each of the 12 time series the average annual temperature of the years 1961 to 1990 and use them as a reference. Subtract these reference temperatures from the respective time series to investigate the time series of the temperature differences. Name the resulting dataframe `df_diff`. Plot them in a scatter plot. What is the difference to the plot you produced before, e.g. when you compare 1303 and 2483?\n"
   ]
  },
  {
   "cell_type": "code",
   "execution_count": null,
   "metadata": {},
   "outputs": [],
   "source": []
  },
  {
   "cell_type": "markdown",
   "metadata": {},
   "source": [
    "### Produce a heatmap \n",
    "\n",
    "Use seaborn to plot a heatmap of `df_diff`. Plot the time on x-axis (transpose?). You will get 12 horizontal color bars stacked vertically. Choose a color scale such that negative values are blue and positive values are red. Compare it to the warming stripes. Discuss."
   ]
  },
  {
   "cell_type": "code",
   "execution_count": null,
   "metadata": {},
   "outputs": [],
   "source": []
  }
 ],
 "metadata": {
  "kernelspec": {
   "display_name": "Python 3",
   "language": "python",
   "name": "python3"
  },
  "language_info": {
   "codemirror_mode": {
    "name": "ipython",
    "version": 3
   },
   "file_extension": ".py",
   "mimetype": "text/x-python",
   "name": "python",
   "nbconvert_exporter": "python",
   "pygments_lexer": "ipython3",
   "version": "3.8.6"
  }
 },
 "nbformat": 4,
 "nbformat_minor": 4
}
