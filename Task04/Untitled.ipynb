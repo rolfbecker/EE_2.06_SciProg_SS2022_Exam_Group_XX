{
 "cells": [
  {
   "cell_type": "markdown",
   "id": "6db21f64",
   "metadata": {},
   "source": [
    "# Modeling PV Array Performance with PVLIB \n",
    "\n",
    "* [PVSC 48 Python Tutorial](https://pvsc-python-tutorials.github.io/PVSC48-Python-Tutorial/Tutorial%200%20-%20Overview.html)\n",
    "\n",
    "* https://pvlib-python.readthedocs.io/en/latest/user_guide/introtutorial.html\n"
   ]
  },
  {
   "cell_type": "code",
   "execution_count": 12,
   "id": "40efca4e-0bff-4a26-b695-b9df3ccfdd0f",
   "metadata": {},
   "outputs": [],
   "source": [
    "# Enable Intellisense (auto-completetion, dot help, etc.)\n",
    "#%config IPCompleter.greedy=True"
   ]
  },
  {
   "cell_type": "code",
   "execution_count": 13,
   "id": "3c0ad785",
   "metadata": {},
   "outputs": [],
   "source": [
    "import os  # for getting environment variables\n",
    "import pathlib  # for finding the example dataset\n",
    "import pvlib\n",
    "import pandas as pd  # for data wrangling\n",
    "import matplotlib.pyplot as plt  # for visualization"
   ]
  },
  {
   "cell_type": "code",
   "execution_count": 14,
   "id": "d3292333-e82f-4dd5-ae7d-97127b1c8cca",
   "metadata": {},
   "outputs": [
    {
     "name": "stdout",
     "output_type": "stream",
     "text": [
      "Python 3.10.5\n"
     ]
    }
   ],
   "source": [
    "!python --version"
   ]
  },
  {
   "cell_type": "code",
   "execution_count": 15,
   "id": "b5360b84",
   "metadata": {},
   "outputs": [
    {
     "name": "stdout",
     "output_type": "stream",
     "text": [
      "0.9.1\n"
     ]
    }
   ],
   "source": [
    "print(pvlib.__version__)"
   ]
  },
  {
   "cell_type": "code",
   "execution_count": 16,
   "id": "2362ea39-0273-4661-9e80-948b7f3c5ac1",
   "metadata": {},
   "outputs": [],
   "source": [
    "# From PVSC 48 Python Tutorial. The NOAA TMY3 file format by differs from PVGIS TMY file format.\n",
    "# DATA_DIR = pathlib.Path(pvlib.__file__).parent / 'data'\n",
    "# df_tmy, meta_dict = pvlib.iotools.read_tmy3(DATA_DIR / '723170TYA.CSV', coerce_year=1990)\n",
    "# meta_dict  # display the dictionary of metadata"
   ]
  },
  {
   "cell_type": "code",
   "execution_count": 17,
   "id": "a70b1214-9722-42b1-be43-15752cac7f27",
   "metadata": {},
   "outputs": [],
   "source": [
    "# PVGIS TMY\n",
    "tmy_pfname = r\"./data/PVGIS_SARAH2/tmy_51.498_6.549_2005_2020.csv\""
   ]
  },
  {
   "cell_type": "code",
   "execution_count": 18,
   "id": "6cfec5fb-9d2f-4e79-854f-f4e00ade59e3",
   "metadata": {},
   "outputs": [],
   "source": [
    "#pvlib.iotools.read_tmy3(pfname)\n",
    "pvgis_tmy_tuple = pvlib.iotools.read_pvgis_tmy(tmy_pfname, map_variables=True)"
   ]
  },
  {
   "cell_type": "code",
   "execution_count": 19,
   "id": "716e84f9-9475-489e-ac0b-594970ca0f3f",
   "metadata": {},
   "outputs": [
    {
     "data": {
      "text/plain": [
       "tuple"
      ]
     },
     "execution_count": 19,
     "metadata": {},
     "output_type": "execute_result"
    }
   ],
   "source": [
    "type(pvgis_tmy_tuple)"
   ]
  },
  {
   "cell_type": "code",
   "execution_count": 20,
   "id": "435515c7-090f-4032-8f11-7acf82c5afa9",
   "metadata": {},
   "outputs": [
    {
     "data": {
      "text/html": [
       "<div>\n",
       "<style scoped>\n",
       "    .dataframe tbody tr th:only-of-type {\n",
       "        vertical-align: middle;\n",
       "    }\n",
       "\n",
       "    .dataframe tbody tr th {\n",
       "        vertical-align: top;\n",
       "    }\n",
       "\n",
       "    .dataframe thead th {\n",
       "        text-align: right;\n",
       "    }\n",
       "</style>\n",
       "<table border=\"1\" class=\"dataframe\">\n",
       "  <thead>\n",
       "    <tr style=\"text-align: right;\">\n",
       "      <th></th>\n",
       "      <th>temp_air</th>\n",
       "      <th>relative_humidity</th>\n",
       "      <th>ghi</th>\n",
       "      <th>dni</th>\n",
       "      <th>dhi</th>\n",
       "      <th>IR(h)</th>\n",
       "      <th>wind_speed</th>\n",
       "      <th>wind_direction</th>\n",
       "      <th>pressure</th>\n",
       "    </tr>\n",
       "    <tr>\n",
       "      <th>time(UTC)</th>\n",
       "      <th></th>\n",
       "      <th></th>\n",
       "      <th></th>\n",
       "      <th></th>\n",
       "      <th></th>\n",
       "      <th></th>\n",
       "      <th></th>\n",
       "      <th></th>\n",
       "      <th></th>\n",
       "    </tr>\n",
       "  </thead>\n",
       "  <tbody>\n",
       "    <tr>\n",
       "      <th>2005-01-01 00:00:00+00:00</th>\n",
       "      <td>5.77</td>\n",
       "      <td>93.25</td>\n",
       "      <td>0.0</td>\n",
       "      <td>-0.0</td>\n",
       "      <td>0.0</td>\n",
       "      <td>206.72</td>\n",
       "      <td>2.64</td>\n",
       "      <td>291.0</td>\n",
       "      <td>102063.0</td>\n",
       "    </tr>\n",
       "    <tr>\n",
       "      <th>2005-01-01 01:00:00+00:00</th>\n",
       "      <td>5.77</td>\n",
       "      <td>93.51</td>\n",
       "      <td>0.0</td>\n",
       "      <td>-0.0</td>\n",
       "      <td>0.0</td>\n",
       "      <td>203.53</td>\n",
       "      <td>2.60</td>\n",
       "      <td>287.0</td>\n",
       "      <td>102093.0</td>\n",
       "    </tr>\n",
       "    <tr>\n",
       "      <th>2005-01-01 02:00:00+00:00</th>\n",
       "      <td>5.77</td>\n",
       "      <td>93.77</td>\n",
       "      <td>0.0</td>\n",
       "      <td>-0.0</td>\n",
       "      <td>0.0</td>\n",
       "      <td>200.33</td>\n",
       "      <td>2.57</td>\n",
       "      <td>282.0</td>\n",
       "      <td>102202.0</td>\n",
       "    </tr>\n",
       "    <tr>\n",
       "      <th>2005-01-01 03:00:00+00:00</th>\n",
       "      <td>5.77</td>\n",
       "      <td>94.03</td>\n",
       "      <td>0.0</td>\n",
       "      <td>-0.0</td>\n",
       "      <td>0.0</td>\n",
       "      <td>197.13</td>\n",
       "      <td>2.54</td>\n",
       "      <td>277.0</td>\n",
       "      <td>102202.0</td>\n",
       "    </tr>\n",
       "    <tr>\n",
       "      <th>2005-01-01 04:00:00+00:00</th>\n",
       "      <td>5.77</td>\n",
       "      <td>94.29</td>\n",
       "      <td>0.0</td>\n",
       "      <td>-0.0</td>\n",
       "      <td>0.0</td>\n",
       "      <td>193.94</td>\n",
       "      <td>2.51</td>\n",
       "      <td>270.0</td>\n",
       "      <td>102192.0</td>\n",
       "    </tr>\n",
       "  </tbody>\n",
       "</table>\n",
       "</div>"
      ],
      "text/plain": [
       "                           temp_air  relative_humidity  ghi  dni  dhi   IR(h)  \\\n",
       "time(UTC)                                                                       \n",
       "2005-01-01 00:00:00+00:00      5.77              93.25  0.0 -0.0  0.0  206.72   \n",
       "2005-01-01 01:00:00+00:00      5.77              93.51  0.0 -0.0  0.0  203.53   \n",
       "2005-01-01 02:00:00+00:00      5.77              93.77  0.0 -0.0  0.0  200.33   \n",
       "2005-01-01 03:00:00+00:00      5.77              94.03  0.0 -0.0  0.0  197.13   \n",
       "2005-01-01 04:00:00+00:00      5.77              94.29  0.0 -0.0  0.0  193.94   \n",
       "\n",
       "                           wind_speed  wind_direction  pressure  \n",
       "time(UTC)                                                        \n",
       "2005-01-01 00:00:00+00:00        2.64           291.0  102063.0  \n",
       "2005-01-01 01:00:00+00:00        2.60           287.0  102093.0  \n",
       "2005-01-01 02:00:00+00:00        2.57           282.0  102202.0  \n",
       "2005-01-01 03:00:00+00:00        2.54           277.0  102202.0  \n",
       "2005-01-01 04:00:00+00:00        2.51           270.0  102192.0  "
      ]
     },
     "execution_count": 20,
     "metadata": {},
     "output_type": "execute_result"
    }
   ],
   "source": [
    "df_tmy = pvgis_tmy_tuple[0]\n",
    "df_tmy.head(5)"
   ]
  },
  {
   "cell_type": "code",
   "execution_count": 33,
   "id": "1f705aa5-d116-4d0e-b622-e45f331b6921",
   "metadata": {},
   "outputs": [
    {
     "data": {
      "text/plain": [
       "{'ghi': 'GHI',\n",
       " 'dhi': 'DHI',\n",
       " 'dni': 'DNI',\n",
       " 'temp_air': 'DryBulb',\n",
       " 'wind_speed': 'Wspd'}"
      ]
     },
     "execution_count": 33,
     "metadata": {},
     "output_type": "execute_result"
    }
   ],
   "source": [
    "old_names = [\"ghi\", \"dhi\", \"dni\", \"temp_air\", \"wind_speed\"]\n",
    "new_names = [\"GHI\", \"DHI\", \"DNI\", \"DryBulb\", \"Wspd\"]\n",
    "translate = {a:b for a,b in zip(old_names, new_names)}\n",
    "translate"
   ]
  },
  {
   "cell_type": "code",
   "execution_count": 34,
   "id": "54464710-9db6-43b9-b0f6-675ea29ce94a",
   "metadata": {},
   "outputs": [
    {
     "data": {
      "text/html": [
       "<div>\n",
       "<style scoped>\n",
       "    .dataframe tbody tr th:only-of-type {\n",
       "        vertical-align: middle;\n",
       "    }\n",
       "\n",
       "    .dataframe tbody tr th {\n",
       "        vertical-align: top;\n",
       "    }\n",
       "\n",
       "    .dataframe thead th {\n",
       "        text-align: right;\n",
       "    }\n",
       "</style>\n",
       "<table border=\"1\" class=\"dataframe\">\n",
       "  <thead>\n",
       "    <tr style=\"text-align: right;\">\n",
       "      <th></th>\n",
       "      <th>GHI</th>\n",
       "      <th>DHI</th>\n",
       "      <th>DNI</th>\n",
       "      <th>DryBulb</th>\n",
       "      <th>Wspd</th>\n",
       "    </tr>\n",
       "    <tr>\n",
       "      <th>time(UTC)</th>\n",
       "      <th></th>\n",
       "      <th></th>\n",
       "      <th></th>\n",
       "      <th></th>\n",
       "      <th></th>\n",
       "    </tr>\n",
       "  </thead>\n",
       "  <tbody>\n",
       "    <tr>\n",
       "      <th>2005-01-01 00:00:00+00:00</th>\n",
       "      <td>0.0</td>\n",
       "      <td>0.0</td>\n",
       "      <td>-0.0</td>\n",
       "      <td>5.77</td>\n",
       "      <td>2.64</td>\n",
       "    </tr>\n",
       "    <tr>\n",
       "      <th>2005-01-01 01:00:00+00:00</th>\n",
       "      <td>0.0</td>\n",
       "      <td>0.0</td>\n",
       "      <td>-0.0</td>\n",
       "      <td>5.77</td>\n",
       "      <td>2.60</td>\n",
       "    </tr>\n",
       "    <tr>\n",
       "      <th>2005-01-01 02:00:00+00:00</th>\n",
       "      <td>0.0</td>\n",
       "      <td>0.0</td>\n",
       "      <td>-0.0</td>\n",
       "      <td>5.77</td>\n",
       "      <td>2.57</td>\n",
       "    </tr>\n",
       "    <tr>\n",
       "      <th>2005-01-01 03:00:00+00:00</th>\n",
       "      <td>0.0</td>\n",
       "      <td>0.0</td>\n",
       "      <td>-0.0</td>\n",
       "      <td>5.77</td>\n",
       "      <td>2.54</td>\n",
       "    </tr>\n",
       "    <tr>\n",
       "      <th>2005-01-01 04:00:00+00:00</th>\n",
       "      <td>0.0</td>\n",
       "      <td>0.0</td>\n",
       "      <td>-0.0</td>\n",
       "      <td>5.77</td>\n",
       "      <td>2.51</td>\n",
       "    </tr>\n",
       "  </tbody>\n",
       "</table>\n",
       "</div>"
      ],
      "text/plain": [
       "                           GHI  DHI  DNI  DryBulb  Wspd\n",
       "time(UTC)                                              \n",
       "2005-01-01 00:00:00+00:00  0.0  0.0 -0.0     5.77  2.64\n",
       "2005-01-01 01:00:00+00:00  0.0  0.0 -0.0     5.77  2.60\n",
       "2005-01-01 02:00:00+00:00  0.0  0.0 -0.0     5.77  2.57\n",
       "2005-01-01 03:00:00+00:00  0.0  0.0 -0.0     5.77  2.54\n",
       "2005-01-01 04:00:00+00:00  0.0  0.0 -0.0     5.77  2.51"
      ]
     },
     "execution_count": 34,
     "metadata": {},
     "output_type": "execute_result"
    }
   ],
   "source": [
    "df = df_tmy[old_names].rename(columns = translate)\n",
    "df.head()"
   ]
  },
  {
   "cell_type": "code",
   "execution_count": 36,
   "id": "a1ceb072-84ff-4e36-acd2-fc5cd3137da9",
   "metadata": {},
   "outputs": [
    {
     "data": {
      "image/png": "[encoded data removed]",
      "text/plain": [
       "<Figure size 432x288 with 1 Axes>"
      ]
     },
     "metadata": {
      "needs_background": "light"
     },
     "output_type": "display_data"
    }
   ],
   "source": [
    "fig1, ax1 = plt.subplots()\n",
    "first_week = df.head(24*7)  # Plotting 7 days, each one has 24 hours or entries\n",
    "first_week[['GHI', 'DHI', 'DNI']].plot(ax = ax1)\n",
    "plt.show()"
   ]
  },
  {
   "cell_type": "code",
   "execution_count": 42,
   "id": "9c7949ec-1f8d-41ab-8606-8cb0f153c1e3",
   "metadata": {},
   "outputs": [
    {
     "data": {
      "text/plain": [
       "8760"
      ]
     },
     "execution_count": 42,
     "metadata": {},
     "output_type": "execute_result"
    }
   ],
   "source": [
    "24*365"
   ]
  },
  {
   "cell_type": "code",
   "execution_count": 45,
   "id": "dadb3b3e-df23-4f25-92f4-b1153f06ac31",
   "metadata": {},
   "outputs": [
    {
     "data": {
      "text/plain": [
       "GHI        0.00\n",
       "DHI        0.00\n",
       "DNI       -0.00\n",
       "DryBulb    5.77\n",
       "Wspd       2.54\n",
       "Name: 2005-01-01 03:00:00+00:00, dtype: float64"
      ]
     },
     "execution_count": 45,
     "metadata": {},
     "output_type": "execute_result"
    }
   ],
   "source": [
    "df.iloc[3]"
   ]
  },
  {
   "cell_type": "code",
   "execution_count": 46,
   "id": "b2b3a905-7238-4b63-b610-c193679d134e",
   "metadata": {},
   "outputs": [
    {
     "data": {
      "text/plain": [
       "time(UTC)\n",
       "2005-01-31 00:00:00+00:00    22969.0\n",
       "2005-02-28 00:00:00+00:00        0.0\n",
       "2005-03-31 00:00:00+00:00        0.0\n",
       "2005-04-30 00:00:00+00:00        0.0\n",
       "2005-05-31 00:00:00+00:00        0.0\n",
       "                              ...   \n",
       "2018-11-30 00:00:00+00:00        0.0\n",
       "2018-12-31 00:00:00+00:00        0.0\n",
       "2019-01-31 00:00:00+00:00        0.0\n",
       "2019-02-28 00:00:00+00:00        0.0\n",
       "2019-03-31 00:00:00+00:00    73376.0\n",
       "Freq: M, Name: GHI, Length: 171, dtype: float64"
      ]
     },
     "execution_count": 46,
     "metadata": {},
     "output_type": "execute_result"
    }
   ],
   "source": [
    "df['GHI'].resample('M').sum()"
   ]
  },
  {
   "cell_type": "code",
   "execution_count": null,
   "id": "76b15e16-03e1-4ecb-931a-68ffbe21da63",
   "metadata": {},
   "outputs": [],
   "source": []
  }
 ],
 "metadata": {
  "kernelspec": {
   "display_name": "Python 3 (ipykernel)",
   "language": "python",
   "name": "python3"
  },
  "language_info": {
   "codemirror_mode": {
    "name": "ipython",
    "version": 3
   },
   "file_extension": ".py",
   "mimetype": "text/x-python",
   "name": "python",
   "nbconvert_exporter": "python",
   "pygments_lexer": "ipython3",
   "version": "3.10.5"
  }
 },
 "nbformat": 4,
 "nbformat_minor": 5
}
